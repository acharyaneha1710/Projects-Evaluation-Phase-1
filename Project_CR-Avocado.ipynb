{
 "cells": [
  {
   "cell_type": "markdown",
   "id": "a1afd729",
   "metadata": {},
   "source": [
    "# Avocado Project\n",
    "## Project Description\n",
    "\n",
    "This data was downloaded from the Hass Avocado Board website in May of 2018 & compiled into a single CSV. \n",
    "The table below represents weekly 2018 retail scan data for National retail volume (units) and price. Retail scan data comes directly from retailers’ cash registers based on actual retail sales of Hass avocados. \n",
    "Starting in 2013, the table below reflects an expanded, multi-outlet retail data set. Multi-outlet reporting includes an aggregation of the following channels: grocery, mass, club, drug, dollar and military. The Average Price (of avocados) in the table reflects a per unit (per avocado) cost, even when multiple units (avocados) are sold in bags. \n",
    "The Product Lookup codes (PLU’s) in the table are only for Hass avocados. Other varieties of avocados (e.g.greenskins) are not included in this table."
   ]
  },
  {
   "cell_type": "markdown",
   "id": "6fba0396",
   "metadata": {},
   "source": [
    "# Features:\n",
    "\n",
    "1. Date - The date of the observation\n",
    "2. AveragePrice - the average price of a single avocado\n",
    "3. type - conventional or organic\n",
    "4. year - the year\n",
    "5. Region - the city or region of the observation\n",
    "6. Total Volume - Total number of avocados sold\n",
    "7. 4046 - Total number of avocados with PLU 4046 sold\n",
    "8. 4225 - Total number of avocados with PLU 4225 sold\n",
    "9. 4770 - Total number of avocados with PLU 4770 sold\n",
    "\n",
    "# Target:\n",
    "\n",
    "The dataset can be seen in two angles to find the region and find the average price.\n",
    "(One of Classification and other of Regression)\n"
   ]
  },
  {
   "cell_type": "code",
   "execution_count": 1,
   "id": "83ee4172",
   "metadata": {},
   "outputs": [],
   "source": [
    "import pandas as pd\n",
    "import numpy as np\n",
    "\n",
    "import matplotlib.pyplot as plt\n",
    "import seaborn as sns\n",
    "%matplotlib inline\n",
    "\n",
    "import warnings\n",
    "warnings.filterwarnings('ignore')\n",
    "from sklearn.utils import shuffle"
   ]
  },
  {
   "cell_type": "code",
   "execution_count": 2,
   "id": "f2e167b5",
   "metadata": {},
   "outputs": [
    {
     "data": {
      "text/html": [
       "<div>\n",
       "<style scoped>\n",
       "    .dataframe tbody tr th:only-of-type {\n",
       "        vertical-align: middle;\n",
       "    }\n",
       "\n",
       "    .dataframe tbody tr th {\n",
       "        vertical-align: top;\n",
       "    }\n",
       "\n",
       "    .dataframe thead th {\n",
       "        text-align: right;\n",
       "    }\n",
       "</style>\n",
       "<table border=\"1\" class=\"dataframe\">\n",
       "  <thead>\n",
       "    <tr style=\"text-align: right;\">\n",
       "      <th></th>\n",
       "      <th>Unnamed: 0</th>\n",
       "      <th>Date</th>\n",
       "      <th>AveragePrice</th>\n",
       "      <th>Total Volume</th>\n",
       "      <th>4046</th>\n",
       "      <th>4225</th>\n",
       "      <th>4770</th>\n",
       "      <th>Total Bags</th>\n",
       "      <th>Small Bags</th>\n",
       "      <th>Large Bags</th>\n",
       "      <th>XLarge Bags</th>\n",
       "      <th>type</th>\n",
       "      <th>year</th>\n",
       "      <th>region</th>\n",
       "    </tr>\n",
       "  </thead>\n",
       "  <tbody>\n",
       "    <tr>\n",
       "      <th>17418</th>\n",
       "      <td>27</td>\n",
       "      <td>2017-06-25</td>\n",
       "      <td>2.09</td>\n",
       "      <td>6199.50</td>\n",
       "      <td>488.90</td>\n",
       "      <td>2780.41</td>\n",
       "      <td>0.00</td>\n",
       "      <td>2930.19</td>\n",
       "      <td>2923.52</td>\n",
       "      <td>6.67</td>\n",
       "      <td>0.0</td>\n",
       "      <td>organic</td>\n",
       "      <td>2017</td>\n",
       "      <td>Tampa</td>\n",
       "    </tr>\n",
       "    <tr>\n",
       "      <th>6099</th>\n",
       "      <td>6</td>\n",
       "      <td>2017-11-19</td>\n",
       "      <td>1.01</td>\n",
       "      <td>247158.00</td>\n",
       "      <td>4314.00</td>\n",
       "      <td>89762.00</td>\n",
       "      <td>793.00</td>\n",
       "      <td>152289.00</td>\n",
       "      <td>19201.00</td>\n",
       "      <td>132886.00</td>\n",
       "      <td>203.0</td>\n",
       "      <td>conventional</td>\n",
       "      <td>2017</td>\n",
       "      <td>CincinnatiDayton</td>\n",
       "    </tr>\n",
       "    <tr>\n",
       "      <th>17479</th>\n",
       "      <td>35</td>\n",
       "      <td>2017-04-30</td>\n",
       "      <td>1.68</td>\n",
       "      <td>1248175.29</td>\n",
       "      <td>199039.61</td>\n",
       "      <td>421709.78</td>\n",
       "      <td>5187.46</td>\n",
       "      <td>622238.44</td>\n",
       "      <td>400529.93</td>\n",
       "      <td>221708.51</td>\n",
       "      <td>0.0</td>\n",
       "      <td>organic</td>\n",
       "      <td>2017</td>\n",
       "      <td>TotalUS</td>\n",
       "    </tr>\n",
       "    <tr>\n",
       "      <th>12363</th>\n",
       "      <td>14</td>\n",
       "      <td>2016-09-18</td>\n",
       "      <td>2.06</td>\n",
       "      <td>21876.53</td>\n",
       "      <td>98.10</td>\n",
       "      <td>19190.24</td>\n",
       "      <td>0.00</td>\n",
       "      <td>2588.19</td>\n",
       "      <td>2588.19</td>\n",
       "      <td>0.00</td>\n",
       "      <td>0.0</td>\n",
       "      <td>organic</td>\n",
       "      <td>2016</td>\n",
       "      <td>Chicago</td>\n",
       "    </tr>\n",
       "    <tr>\n",
       "      <th>14333</th>\n",
       "      <td>8</td>\n",
       "      <td>2016-10-30</td>\n",
       "      <td>1.75</td>\n",
       "      <td>44666.00</td>\n",
       "      <td>5090.29</td>\n",
       "      <td>15508.61</td>\n",
       "      <td>572.47</td>\n",
       "      <td>23494.63</td>\n",
       "      <td>5220.39</td>\n",
       "      <td>18274.24</td>\n",
       "      <td>0.0</td>\n",
       "      <td>organic</td>\n",
       "      <td>2016</td>\n",
       "      <td>Southeast</td>\n",
       "    </tr>\n",
       "    <tr>\n",
       "      <th>...</th>\n",
       "      <td>...</td>\n",
       "      <td>...</td>\n",
       "      <td>...</td>\n",
       "      <td>...</td>\n",
       "      <td>...</td>\n",
       "      <td>...</td>\n",
       "      <td>...</td>\n",
       "      <td>...</td>\n",
       "      <td>...</td>\n",
       "      <td>...</td>\n",
       "      <td>...</td>\n",
       "      <td>...</td>\n",
       "      <td>...</td>\n",
       "      <td>...</td>\n",
       "    </tr>\n",
       "    <tr>\n",
       "      <th>5624</th>\n",
       "      <td>8</td>\n",
       "      <td>2017-11-05</td>\n",
       "      <td>1.62</td>\n",
       "      <td>71076.94</td>\n",
       "      <td>2483.36</td>\n",
       "      <td>55509.31</td>\n",
       "      <td>33.88</td>\n",
       "      <td>13050.39</td>\n",
       "      <td>9877.42</td>\n",
       "      <td>3172.97</td>\n",
       "      <td>0.0</td>\n",
       "      <td>conventional</td>\n",
       "      <td>2017</td>\n",
       "      <td>Albany</td>\n",
       "    </tr>\n",
       "    <tr>\n",
       "      <th>14733</th>\n",
       "      <td>44</td>\n",
       "      <td>2016-02-21</td>\n",
       "      <td>1.48</td>\n",
       "      <td>14413.74</td>\n",
       "      <td>1308.04</td>\n",
       "      <td>4865.24</td>\n",
       "      <td>4.77</td>\n",
       "      <td>8235.69</td>\n",
       "      <td>7090.72</td>\n",
       "      <td>1144.97</td>\n",
       "      <td>0.0</td>\n",
       "      <td>organic</td>\n",
       "      <td>2016</td>\n",
       "      <td>WestTexNewMexico</td>\n",
       "    </tr>\n",
       "    <tr>\n",
       "      <th>15427</th>\n",
       "      <td>50</td>\n",
       "      <td>2017-01-15</td>\n",
       "      <td>0.73</td>\n",
       "      <td>50686.37</td>\n",
       "      <td>18780.82</td>\n",
       "      <td>3010.21</td>\n",
       "      <td>270.75</td>\n",
       "      <td>28624.59</td>\n",
       "      <td>15918.63</td>\n",
       "      <td>12705.96</td>\n",
       "      <td>0.0</td>\n",
       "      <td>organic</td>\n",
       "      <td>2017</td>\n",
       "      <td>Denver</td>\n",
       "    </tr>\n",
       "    <tr>\n",
       "      <th>15583</th>\n",
       "      <td>47</td>\n",
       "      <td>2017-02-05</td>\n",
       "      <td>1.14</td>\n",
       "      <td>149650.50</td>\n",
       "      <td>4548.46</td>\n",
       "      <td>70014.08</td>\n",
       "      <td>0.00</td>\n",
       "      <td>75087.96</td>\n",
       "      <td>20170.52</td>\n",
       "      <td>54917.44</td>\n",
       "      <td>0.0</td>\n",
       "      <td>organic</td>\n",
       "      <td>2017</td>\n",
       "      <td>GreatLakes</td>\n",
       "    </tr>\n",
       "    <tr>\n",
       "      <th>11907</th>\n",
       "      <td>25</td>\n",
       "      <td>2015-06-28</td>\n",
       "      <td>1.58</td>\n",
       "      <td>11456.41</td>\n",
       "      <td>5443.30</td>\n",
       "      <td>3745.90</td>\n",
       "      <td>0.00</td>\n",
       "      <td>2267.21</td>\n",
       "      <td>1460.20</td>\n",
       "      <td>807.01</td>\n",
       "      <td>0.0</td>\n",
       "      <td>organic</td>\n",
       "      <td>2015</td>\n",
       "      <td>WestTexNewMexico</td>\n",
       "    </tr>\n",
       "  </tbody>\n",
       "</table>\n",
       "<p>18249 rows × 14 columns</p>\n",
       "</div>"
      ],
      "text/plain": [
       "       Unnamed: 0        Date  AveragePrice  Total Volume       4046  \\\n",
       "17418          27  2017-06-25          2.09       6199.50     488.90   \n",
       "6099            6  2017-11-19          1.01     247158.00    4314.00   \n",
       "17479          35  2017-04-30          1.68    1248175.29  199039.61   \n",
       "12363          14  2016-09-18          2.06      21876.53      98.10   \n",
       "14333           8  2016-10-30          1.75      44666.00    5090.29   \n",
       "...           ...         ...           ...           ...        ...   \n",
       "5624            8  2017-11-05          1.62      71076.94    2483.36   \n",
       "14733          44  2016-02-21          1.48      14413.74    1308.04   \n",
       "15427          50  2017-01-15          0.73      50686.37   18780.82   \n",
       "15583          47  2017-02-05          1.14     149650.50    4548.46   \n",
       "11907          25  2015-06-28          1.58      11456.41    5443.30   \n",
       "\n",
       "            4225     4770  Total Bags  Small Bags  Large Bags  XLarge Bags  \\\n",
       "17418    2780.41     0.00     2930.19     2923.52        6.67          0.0   \n",
       "6099    89762.00   793.00   152289.00    19201.00   132886.00        203.0   \n",
       "17479  421709.78  5187.46   622238.44   400529.93   221708.51          0.0   \n",
       "12363   19190.24     0.00     2588.19     2588.19        0.00          0.0   \n",
       "14333   15508.61   572.47    23494.63     5220.39    18274.24          0.0   \n",
       "...          ...      ...         ...         ...         ...          ...   \n",
       "5624    55509.31    33.88    13050.39     9877.42     3172.97          0.0   \n",
       "14733    4865.24     4.77     8235.69     7090.72     1144.97          0.0   \n",
       "15427    3010.21   270.75    28624.59    15918.63    12705.96          0.0   \n",
       "15583   70014.08     0.00    75087.96    20170.52    54917.44          0.0   \n",
       "11907    3745.90     0.00     2267.21     1460.20      807.01          0.0   \n",
       "\n",
       "               type  year            region  \n",
       "17418       organic  2017             Tampa  \n",
       "6099   conventional  2017  CincinnatiDayton  \n",
       "17479       organic  2017           TotalUS  \n",
       "12363       organic  2016           Chicago  \n",
       "14333       organic  2016         Southeast  \n",
       "...             ...   ...               ...  \n",
       "5624   conventional  2017            Albany  \n",
       "14733       organic  2016  WestTexNewMexico  \n",
       "15427       organic  2017            Denver  \n",
       "15583       organic  2017        GreatLakes  \n",
       "11907       organic  2015  WestTexNewMexico  \n",
       "\n",
       "[18249 rows x 14 columns]"
      ]
     },
     "execution_count": 2,
     "metadata": {},
     "output_type": "execute_result"
    }
   ],
   "source": [
    "df=pd.read_csv('Avocado.csv')\n",
    "df=shuffle(df)\n",
    "df"
   ]
  },
  {
   "cell_type": "code",
   "execution_count": 3,
   "id": "7c24aeaf",
   "metadata": {},
   "outputs": [
    {
     "data": {
      "text/plain": [
       "Unnamed: 0      0\n",
       "Date            0\n",
       "AveragePrice    0\n",
       "Total Volume    0\n",
       "4046            0\n",
       "4225            0\n",
       "4770            0\n",
       "Total Bags      0\n",
       "Small Bags      0\n",
       "Large Bags      0\n",
       "XLarge Bags     0\n",
       "type            0\n",
       "year            0\n",
       "region          0\n",
       "dtype: int64"
      ]
     },
     "execution_count": 3,
     "metadata": {},
     "output_type": "execute_result"
    }
   ],
   "source": [
    "df.isnull().sum()"
   ]
  },
  {
   "cell_type": "code",
   "execution_count": 4,
   "id": "44796e25",
   "metadata": {},
   "outputs": [
    {
     "name": "stdout",
     "output_type": "stream",
     "text": [
      "<class 'pandas.core.frame.DataFrame'>\n",
      "Int64Index: 18249 entries, 17418 to 11907\n",
      "Data columns (total 14 columns):\n",
      " #   Column        Non-Null Count  Dtype  \n",
      "---  ------        --------------  -----  \n",
      " 0   Unnamed: 0    18249 non-null  int64  \n",
      " 1   Date          18249 non-null  object \n",
      " 2   AveragePrice  18249 non-null  float64\n",
      " 3   Total Volume  18249 non-null  float64\n",
      " 4   4046          18249 non-null  float64\n",
      " 5   4225          18249 non-null  float64\n",
      " 6   4770          18249 non-null  float64\n",
      " 7   Total Bags    18249 non-null  float64\n",
      " 8   Small Bags    18249 non-null  float64\n",
      " 9   Large Bags    18249 non-null  float64\n",
      " 10  XLarge Bags   18249 non-null  float64\n",
      " 11  type          18249 non-null  object \n",
      " 12  year          18249 non-null  int64  \n",
      " 13  region        18249 non-null  object \n",
      "dtypes: float64(9), int64(2), object(3)\n",
      "memory usage: 2.1+ MB\n"
     ]
    }
   ],
   "source": [
    "df.info()"
   ]
  },
  {
   "cell_type": "markdown",
   "id": "58ddbe6a",
   "metadata": {},
   "source": [
    "As per observation:\n",
    "1. The dataset has 18249 rows and 14 columns.\n",
    "2. No null value in any column.\n",
    "3. Date data in object types.\n",
    "4. 'Unnamed: 0' column is unwanted column, drop it."
   ]
  },
  {
   "cell_type": "code",
   "execution_count": 5,
   "id": "8c195222",
   "metadata": {},
   "outputs": [],
   "source": [
    "df.drop(columns='Unnamed: 0',inplace=True)"
   ]
  },
  {
   "cell_type": "markdown",
   "id": "b69967e2",
   "metadata": {},
   "source": [
    "# Changing Date column from object type to Date Type"
   ]
  },
  {
   "cell_type": "code",
   "execution_count": 6,
   "id": "73b237fb",
   "metadata": {},
   "outputs": [],
   "source": [
    "df.Date=pd.to_datetime(df['Date'])"
   ]
  },
  {
   "cell_type": "code",
   "execution_count": 7,
   "id": "426daa2f",
   "metadata": {},
   "outputs": [
    {
     "name": "stdout",
     "output_type": "stream",
     "text": [
      "<class 'pandas.core.frame.DataFrame'>\n",
      "Int64Index: 18249 entries, 17418 to 11907\n",
      "Data columns (total 13 columns):\n",
      " #   Column        Non-Null Count  Dtype         \n",
      "---  ------        --------------  -----         \n",
      " 0   Date          18249 non-null  datetime64[ns]\n",
      " 1   AveragePrice  18249 non-null  float64       \n",
      " 2   Total Volume  18249 non-null  float64       \n",
      " 3   4046          18249 non-null  float64       \n",
      " 4   4225          18249 non-null  float64       \n",
      " 5   4770          18249 non-null  float64       \n",
      " 6   Total Bags    18249 non-null  float64       \n",
      " 7   Small Bags    18249 non-null  float64       \n",
      " 8   Large Bags    18249 non-null  float64       \n",
      " 9   XLarge Bags   18249 non-null  float64       \n",
      " 10  type          18249 non-null  object        \n",
      " 11  year          18249 non-null  int64         \n",
      " 12  region        18249 non-null  object        \n",
      "dtypes: datetime64[ns](1), float64(9), int64(1), object(2)\n",
      "memory usage: 1.9+ MB\n"
     ]
    }
   ],
   "source": [
    "df.info()"
   ]
  },
  {
   "cell_type": "markdown",
   "id": "1e515883",
   "metadata": {},
   "source": [
    "Now dataset has only 13 columns & Date column in datetime type."
   ]
  },
  {
   "cell_type": "markdown",
   "id": "9c70f60f",
   "metadata": {},
   "source": [
    "# Separate Date column into day and month columns, as dataset has already one year column"
   ]
  },
  {
   "cell_type": "code",
   "execution_count": 8,
   "id": "16601aba",
   "metadata": {},
   "outputs": [],
   "source": [
    "df['month'] = df['Date'].dt.month\n",
    "df['day']=df['Date'].dt.day\n",
    "df.drop(columns='Date',inplace=True)"
   ]
  },
  {
   "cell_type": "code",
   "execution_count": 9,
   "id": "b6b1de11",
   "metadata": {},
   "outputs": [
    {
     "name": "stdout",
     "output_type": "stream",
     "text": [
      "<class 'pandas.core.frame.DataFrame'>\n",
      "Int64Index: 18249 entries, 17418 to 11907\n",
      "Data columns (total 14 columns):\n",
      " #   Column        Non-Null Count  Dtype  \n",
      "---  ------        --------------  -----  \n",
      " 0   AveragePrice  18249 non-null  float64\n",
      " 1   Total Volume  18249 non-null  float64\n",
      " 2   4046          18249 non-null  float64\n",
      " 3   4225          18249 non-null  float64\n",
      " 4   4770          18249 non-null  float64\n",
      " 5   Total Bags    18249 non-null  float64\n",
      " 6   Small Bags    18249 non-null  float64\n",
      " 7   Large Bags    18249 non-null  float64\n",
      " 8   XLarge Bags   18249 non-null  float64\n",
      " 9   type          18249 non-null  object \n",
      " 10  year          18249 non-null  int64  \n",
      " 11  region        18249 non-null  object \n",
      " 12  month         18249 non-null  int64  \n",
      " 13  day           18249 non-null  int64  \n",
      "dtypes: float64(9), int64(3), object(2)\n",
      "memory usage: 2.1+ MB\n"
     ]
    }
   ],
   "source": [
    "df.info()"
   ]
  },
  {
   "cell_type": "code",
   "execution_count": 10,
   "id": "a399151e",
   "metadata": {},
   "outputs": [
    {
     "name": "stdout",
     "output_type": "stream",
     "text": [
      "Total: 12\n"
     ]
    },
    {
     "data": {
      "text/plain": [
       "['AveragePrice',\n",
       " 'Total Volume',\n",
       " '4046',\n",
       " '4225',\n",
       " '4770',\n",
       " 'Total Bags',\n",
       " 'Small Bags',\n",
       " 'Large Bags',\n",
       " 'XLarge Bags',\n",
       " 'year',\n",
       " 'month',\n",
       " 'day']"
      ]
     },
     "execution_count": 10,
     "metadata": {},
     "output_type": "execute_result"
    }
   ],
   "source": [
    "numeric_datatypes=[]\n",
    "for i in df.dtypes.index:\n",
    "    if df.dtypes[i]!='object':\n",
    "        numeric_datatypes.append(i) \n",
    "print('Total:', len(numeric_datatypes))\n",
    "numeric_datatypes"
   ]
  },
  {
   "cell_type": "code",
   "execution_count": 11,
   "id": "c88e5341",
   "metadata": {},
   "outputs": [
    {
     "data": {
      "text/html": [
       "<div>\n",
       "<style scoped>\n",
       "    .dataframe tbody tr th:only-of-type {\n",
       "        vertical-align: middle;\n",
       "    }\n",
       "\n",
       "    .dataframe tbody tr th {\n",
       "        vertical-align: top;\n",
       "    }\n",
       "\n",
       "    .dataframe thead th {\n",
       "        text-align: right;\n",
       "    }\n",
       "</style>\n",
       "<table border=\"1\" class=\"dataframe\">\n",
       "  <thead>\n",
       "    <tr style=\"text-align: right;\">\n",
       "      <th></th>\n",
       "      <th>AveragePrice</th>\n",
       "      <th>Total Volume</th>\n",
       "      <th>4046</th>\n",
       "      <th>4225</th>\n",
       "      <th>4770</th>\n",
       "      <th>Total Bags</th>\n",
       "      <th>Small Bags</th>\n",
       "      <th>Large Bags</th>\n",
       "      <th>XLarge Bags</th>\n",
       "      <th>year</th>\n",
       "      <th>month</th>\n",
       "      <th>day</th>\n",
       "    </tr>\n",
       "  </thead>\n",
       "  <tbody>\n",
       "    <tr>\n",
       "      <th>count</th>\n",
       "      <td>18249.000000</td>\n",
       "      <td>1.824900e+04</td>\n",
       "      <td>1.824900e+04</td>\n",
       "      <td>1.824900e+04</td>\n",
       "      <td>1.824900e+04</td>\n",
       "      <td>1.824900e+04</td>\n",
       "      <td>1.824900e+04</td>\n",
       "      <td>1.824900e+04</td>\n",
       "      <td>18249.000000</td>\n",
       "      <td>18249.000000</td>\n",
       "      <td>18249.000000</td>\n",
       "      <td>18249.000000</td>\n",
       "    </tr>\n",
       "    <tr>\n",
       "      <th>mean</th>\n",
       "      <td>1.405978</td>\n",
       "      <td>8.506440e+05</td>\n",
       "      <td>2.930084e+05</td>\n",
       "      <td>2.951546e+05</td>\n",
       "      <td>2.283974e+04</td>\n",
       "      <td>2.396392e+05</td>\n",
       "      <td>1.821947e+05</td>\n",
       "      <td>5.433809e+04</td>\n",
       "      <td>3106.426507</td>\n",
       "      <td>2016.147899</td>\n",
       "      <td>6.177215</td>\n",
       "      <td>15.662612</td>\n",
       "    </tr>\n",
       "    <tr>\n",
       "      <th>std</th>\n",
       "      <td>0.402677</td>\n",
       "      <td>3.453545e+06</td>\n",
       "      <td>1.264989e+06</td>\n",
       "      <td>1.204120e+06</td>\n",
       "      <td>1.074641e+05</td>\n",
       "      <td>9.862424e+05</td>\n",
       "      <td>7.461785e+05</td>\n",
       "      <td>2.439660e+05</td>\n",
       "      <td>17692.894652</td>\n",
       "      <td>0.939938</td>\n",
       "      <td>3.534130</td>\n",
       "      <td>8.776281</td>\n",
       "    </tr>\n",
       "    <tr>\n",
       "      <th>min</th>\n",
       "      <td>0.440000</td>\n",
       "      <td>8.456000e+01</td>\n",
       "      <td>0.000000e+00</td>\n",
       "      <td>0.000000e+00</td>\n",
       "      <td>0.000000e+00</td>\n",
       "      <td>0.000000e+00</td>\n",
       "      <td>0.000000e+00</td>\n",
       "      <td>0.000000e+00</td>\n",
       "      <td>0.000000</td>\n",
       "      <td>2015.000000</td>\n",
       "      <td>1.000000</td>\n",
       "      <td>1.000000</td>\n",
       "    </tr>\n",
       "    <tr>\n",
       "      <th>25%</th>\n",
       "      <td>1.100000</td>\n",
       "      <td>1.083858e+04</td>\n",
       "      <td>8.540700e+02</td>\n",
       "      <td>3.008780e+03</td>\n",
       "      <td>0.000000e+00</td>\n",
       "      <td>5.088640e+03</td>\n",
       "      <td>2.849420e+03</td>\n",
       "      <td>1.274700e+02</td>\n",
       "      <td>0.000000</td>\n",
       "      <td>2015.000000</td>\n",
       "      <td>3.000000</td>\n",
       "      <td>8.000000</td>\n",
       "    </tr>\n",
       "    <tr>\n",
       "      <th>50%</th>\n",
       "      <td>1.370000</td>\n",
       "      <td>1.073768e+05</td>\n",
       "      <td>8.645300e+03</td>\n",
       "      <td>2.906102e+04</td>\n",
       "      <td>1.849900e+02</td>\n",
       "      <td>3.974383e+04</td>\n",
       "      <td>2.636282e+04</td>\n",
       "      <td>2.647710e+03</td>\n",
       "      <td>0.000000</td>\n",
       "      <td>2016.000000</td>\n",
       "      <td>6.000000</td>\n",
       "      <td>16.000000</td>\n",
       "    </tr>\n",
       "    <tr>\n",
       "      <th>75%</th>\n",
       "      <td>1.660000</td>\n",
       "      <td>4.329623e+05</td>\n",
       "      <td>1.110202e+05</td>\n",
       "      <td>1.502069e+05</td>\n",
       "      <td>6.243420e+03</td>\n",
       "      <td>1.107834e+05</td>\n",
       "      <td>8.333767e+04</td>\n",
       "      <td>2.202925e+04</td>\n",
       "      <td>132.500000</td>\n",
       "      <td>2017.000000</td>\n",
       "      <td>9.000000</td>\n",
       "      <td>23.000000</td>\n",
       "    </tr>\n",
       "    <tr>\n",
       "      <th>max</th>\n",
       "      <td>3.250000</td>\n",
       "      <td>6.250565e+07</td>\n",
       "      <td>2.274362e+07</td>\n",
       "      <td>2.047057e+07</td>\n",
       "      <td>2.546439e+06</td>\n",
       "      <td>1.937313e+07</td>\n",
       "      <td>1.338459e+07</td>\n",
       "      <td>5.719097e+06</td>\n",
       "      <td>551693.650000</td>\n",
       "      <td>2018.000000</td>\n",
       "      <td>12.000000</td>\n",
       "      <td>31.000000</td>\n",
       "    </tr>\n",
       "  </tbody>\n",
       "</table>\n",
       "</div>"
      ],
      "text/plain": [
       "       AveragePrice  Total Volume          4046          4225          4770  \\\n",
       "count  18249.000000  1.824900e+04  1.824900e+04  1.824900e+04  1.824900e+04   \n",
       "mean       1.405978  8.506440e+05  2.930084e+05  2.951546e+05  2.283974e+04   \n",
       "std        0.402677  3.453545e+06  1.264989e+06  1.204120e+06  1.074641e+05   \n",
       "min        0.440000  8.456000e+01  0.000000e+00  0.000000e+00  0.000000e+00   \n",
       "25%        1.100000  1.083858e+04  8.540700e+02  3.008780e+03  0.000000e+00   \n",
       "50%        1.370000  1.073768e+05  8.645300e+03  2.906102e+04  1.849900e+02   \n",
       "75%        1.660000  4.329623e+05  1.110202e+05  1.502069e+05  6.243420e+03   \n",
       "max        3.250000  6.250565e+07  2.274362e+07  2.047057e+07  2.546439e+06   \n",
       "\n",
       "         Total Bags    Small Bags    Large Bags    XLarge Bags          year  \\\n",
       "count  1.824900e+04  1.824900e+04  1.824900e+04   18249.000000  18249.000000   \n",
       "mean   2.396392e+05  1.821947e+05  5.433809e+04    3106.426507   2016.147899   \n",
       "std    9.862424e+05  7.461785e+05  2.439660e+05   17692.894652      0.939938   \n",
       "min    0.000000e+00  0.000000e+00  0.000000e+00       0.000000   2015.000000   \n",
       "25%    5.088640e+03  2.849420e+03  1.274700e+02       0.000000   2015.000000   \n",
       "50%    3.974383e+04  2.636282e+04  2.647710e+03       0.000000   2016.000000   \n",
       "75%    1.107834e+05  8.333767e+04  2.202925e+04     132.500000   2017.000000   \n",
       "max    1.937313e+07  1.338459e+07  5.719097e+06  551693.650000   2018.000000   \n",
       "\n",
       "              month           day  \n",
       "count  18249.000000  18249.000000  \n",
       "mean       6.177215     15.662612  \n",
       "std        3.534130      8.776281  \n",
       "min        1.000000      1.000000  \n",
       "25%        3.000000      8.000000  \n",
       "50%        6.000000     16.000000  \n",
       "75%        9.000000     23.000000  \n",
       "max       12.000000     31.000000  "
      ]
     },
     "execution_count": 11,
     "metadata": {},
     "output_type": "execute_result"
    }
   ],
   "source": [
    "df.describe()"
   ]
  },
  {
   "cell_type": "markdown",
   "id": "419eeb88",
   "metadata": {},
   "source": [
    "Here AveragePrice,Total Volume, 4046, 4225, 4770, Total Bags, Small Bags, Large Bags, XLarge Bags columns have outliet, which will handle later."
   ]
  },
  {
   "cell_type": "markdown",
   "id": "f7b3aef5",
   "metadata": {},
   "source": [
    "# Data Visualization"
   ]
  },
  {
   "cell_type": "code",
   "execution_count": 12,
   "id": "d0b76403",
   "metadata": {},
   "outputs": [
    {
     "data": {
      "image/png": "[encoded data removed]",
      "text/plain": [
       "<Figure size 1440x2520 with 12 Axes>"
      ]
     },
     "metadata": {
      "needs_background": "light"
     },
     "output_type": "display_data"
    }
   ],
   "source": [
    "plt.figure (figsize=(20,35))\n",
    "plotnumber = 1\n",
    "\n",
    "for column in numeric_datatypes:\n",
    "    if plotnumber<=12:\n",
    "        ax=plt.subplot(4,3,plotnumber)\n",
    "        sns.distplot(df[column])\n",
    "        plt.xlabel(column,fontsize=20)          \n",
    "    plotnumber+=1\n",
    "                     \n",
    "plt.show()"
   ]
  },
  {
   "cell_type": "code",
   "execution_count": 13,
   "id": "8c5612bb",
   "metadata": {},
   "outputs": [
    {
     "data": {
      "image/png": "[encoded data removed]",
      "text/plain": [
       "<Figure size 1440x2520 with 12 Axes>"
      ]
     },
     "metadata": {
      "needs_background": "light"
     },
     "output_type": "display_data"
    }
   ],
   "source": [
    "plt.figure (figsize=(20,35))\n",
    "plotnumber = 1\n",
    "\n",
    "for column in numeric_datatypes:\n",
    "    if plotnumber<=12:\n",
    "        ax=plt.subplot(4,3,plotnumber)\n",
    "        sns.boxplot(df[column])\n",
    "        plt.xlabel(column,fontsize=15)          \n",
    "    plotnumber+=1\n",
    "        \n",
    "plt.show()"
   ]
  },
  {
   "cell_type": "markdown",
   "id": "7a6573c7",
   "metadata": {},
   "source": [
    "As observed priviously AveragePrice,Total Volume, 4046, 4225, 4770, Total Bags, Small Bags, Large Bags, XLarge Bags columns have outliet, let's handle it."
   ]
  },
  {
   "cell_type": "code",
   "execution_count": 14,
   "id": "9d179a5b",
   "metadata": {},
   "outputs": [
    {
     "data": {
      "image/png": "[encoded data removed]",
      "text/plain": [
       "<Figure size 720x432 with 1 Axes>"
      ]
     },
     "metadata": {
      "needs_background": "light"
     },
     "output_type": "display_data"
    }
   ],
   "source": [
    "plt.figure(figsize=(10,6))\n",
    "sns.barplot(x='year',y='Total Volume',hue=\"type\",data=df,palette=\"Blues_d\",ci=68)\n",
    "plt.show()"
   ]
  },
  {
   "cell_type": "markdown",
   "id": "06d4a2b1",
   "metadata": {},
   "source": [
    "Conventional types were sold higher every year with low price than Organic types which means the demand for conventional is high. Also The Total sales volume is spotted highest in the year 2018"
   ]
  },
  {
   "cell_type": "code",
   "execution_count": 15,
   "id": "be95f867",
   "metadata": {},
   "outputs": [
    {
     "data": {
      "image/png": "[encoded data removed]",
      "text/plain": [
       "<Figure size 1440x432 with 1 Axes>"
      ]
     },
     "metadata": {
      "needs_background": "light"
     },
     "output_type": "display_data"
    }
   ],
   "source": [
    "plt.figure(figsize=(20,6))\n",
    "sns.barplot(x='month',y='AveragePrice',hue=\"type\",data=df,palette=\"Blues_d\",ci=68)\n",
    "plt.show()"
   ]
  },
  {
   "cell_type": "markdown",
   "id": "9e4144bc",
   "metadata": {},
   "source": [
    "Here we can notice that the AveragePrice of organic avocado fruit is more than the conventional type. As we can observe the AveragePrice of both type of avocados is high in the months August, September and October."
   ]
  },
  {
   "cell_type": "code",
   "execution_count": 16,
   "id": "5d701d33",
   "metadata": {},
   "outputs": [
    {
     "data": {
      "image/png": "[encoded data removed]",
      "text/plain": [
       "<Figure size 1440x432 with 1 Axes>"
      ]
     },
     "metadata": {
      "needs_background": "light"
     },
     "output_type": "display_data"
    }
   ],
   "source": [
    "bags = df[[\"Small Bags\",\"Large Bags\",\"XLarge Bags\"]].groupby(df.year).sum()\n",
    "bags.plot(kind='bar', fontsize=10,figsize=(20,6))\n",
    "plt.title(\"Comparision between type of bags sold vs year\")\n",
    "plt.xlabel(\"year\")\n",
    "plt.ylabel(\"type of bags sold\")\n",
    "plt.show()"
   ]
  },
  {
   "cell_type": "markdown",
   "id": "8663e767",
   "metadata": {},
   "source": [
    "Small bag size was sold all time highest where Xlarge Bag size was least sold."
   ]
  },
  {
   "cell_type": "code",
   "execution_count": 17,
   "id": "2d26683c",
   "metadata": {},
   "outputs": [
    {
     "data": {
      "image/png": "[encoded data removed]",
      "text/plain": [
       "<Figure size 1440x720 with 1 Axes>"
      ]
     },
     "metadata": {
      "needs_background": "light"
     },
     "output_type": "display_data"
    }
   ],
   "source": [
    "plt.figure(figsize=(20,10))\n",
    "plt.title(\"Average Price in each region with year\")\n",
    "sns.pointplot(x='region',y='AveragePrice',data=df, hue='year',join=False)\n",
    "plt.xticks(rotation=90)\n",
    "plt.show()"
   ]
  },
  {
   "cell_type": "markdown",
   "id": "4f0612bb",
   "metadata": {},
   "source": [
    "The average price of the avocado is high in the region SanFrancisco followed by RaleighGreensboro in the year 2017. The demand of the fruit is high in the year 2017 and less in the year 2018."
   ]
  },
  {
   "cell_type": "markdown",
   "id": "fc92cb72",
   "metadata": {},
   "source": [
    "# Since the dataset has two string values. We will use the encoding techniques to convert the sring data to numerical data."
   ]
  },
  {
   "cell_type": "code",
   "execution_count": 18,
   "id": "e2e0b754",
   "metadata": {},
   "outputs": [
    {
     "name": "stdout",
     "output_type": "stream",
     "text": [
      "type ['organic' 'conventional'] 2 \n",
      "\n",
      "region ['Tampa' 'CincinnatiDayton' 'TotalUS' 'Chicago' 'Southeast' 'SouthCentral'\n",
      " 'LasVegas' 'Albany' 'RaleighGreensboro' 'Plains' 'Atlanta' 'Boise'\n",
      " 'Roanoke' 'Columbus' 'Indianapolis' 'PhoenixTucson' 'Spokane' 'SanDiego'\n",
      " 'LosAngeles' 'HartfordSpringfield' 'GreatLakes' 'Houston' 'StLouis'\n",
      " 'Denver' 'NorthernNewEngland' 'WestTexNewMexico' 'BaltimoreWashington'\n",
      " 'West' 'Syracuse' 'Seattle' 'Midsouth' 'Nashville' 'SouthCarolina'\n",
      " 'Orlando' 'MiamiFtLauderdale' 'NewYork' 'Detroit' 'Jacksonville'\n",
      " 'Portland' 'Northeast' 'BuffaloRochester' 'Philadelphia' 'GrandRapids'\n",
      " 'SanFrancisco' 'DallasFtWorth' 'Charlotte' 'California' 'Louisville'\n",
      " 'Pittsburgh' 'NewOrleansMobile' 'Boston' 'RichmondNorfolk'\n",
      " 'HarrisburgScranton' 'Sacramento'] 54 \n",
      "\n"
     ]
    }
   ],
   "source": [
    "for i in df.columns:\n",
    "    if df[i].dtypes == 'object':\n",
    "        val=df[i].unique()\n",
    "        nval=df[i].nunique()\n",
    "        print(i , val , nval , \"\\n\")"
   ]
  },
  {
   "cell_type": "code",
   "execution_count": 19,
   "id": "06c53a32",
   "metadata": {},
   "outputs": [
    {
     "data": {
      "text/html": [
       "<div>\n",
       "<style scoped>\n",
       "    .dataframe tbody tr th:only-of-type {\n",
       "        vertical-align: middle;\n",
       "    }\n",
       "\n",
       "    .dataframe tbody tr th {\n",
       "        vertical-align: top;\n",
       "    }\n",
       "\n",
       "    .dataframe thead th {\n",
       "        text-align: right;\n",
       "    }\n",
       "</style>\n",
       "<table border=\"1\" class=\"dataframe\">\n",
       "  <thead>\n",
       "    <tr style=\"text-align: right;\">\n",
       "      <th></th>\n",
       "      <th>AveragePrice</th>\n",
       "      <th>Total Volume</th>\n",
       "      <th>4046</th>\n",
       "      <th>4225</th>\n",
       "      <th>4770</th>\n",
       "      <th>Total Bags</th>\n",
       "      <th>Small Bags</th>\n",
       "      <th>Large Bags</th>\n",
       "      <th>XLarge Bags</th>\n",
       "      <th>type</th>\n",
       "      <th>year</th>\n",
       "      <th>region</th>\n",
       "      <th>month</th>\n",
       "      <th>day</th>\n",
       "    </tr>\n",
       "  </thead>\n",
       "  <tbody>\n",
       "    <tr>\n",
       "      <th>17418</th>\n",
       "      <td>2.09</td>\n",
       "      <td>6199.50</td>\n",
       "      <td>488.90</td>\n",
       "      <td>2780.41</td>\n",
       "      <td>0.00</td>\n",
       "      <td>2930.19</td>\n",
       "      <td>2923.52</td>\n",
       "      <td>6.67</td>\n",
       "      <td>0.0</td>\n",
       "      <td>1.0</td>\n",
       "      <td>2017</td>\n",
       "      <td>50.0</td>\n",
       "      <td>6</td>\n",
       "      <td>25</td>\n",
       "    </tr>\n",
       "    <tr>\n",
       "      <th>6099</th>\n",
       "      <td>1.01</td>\n",
       "      <td>247158.00</td>\n",
       "      <td>4314.00</td>\n",
       "      <td>89762.00</td>\n",
       "      <td>793.00</td>\n",
       "      <td>152289.00</td>\n",
       "      <td>19201.00</td>\n",
       "      <td>132886.00</td>\n",
       "      <td>203.0</td>\n",
       "      <td>0.0</td>\n",
       "      <td>2017</td>\n",
       "      <td>9.0</td>\n",
       "      <td>11</td>\n",
       "      <td>19</td>\n",
       "    </tr>\n",
       "    <tr>\n",
       "      <th>17479</th>\n",
       "      <td>1.68</td>\n",
       "      <td>1248175.29</td>\n",
       "      <td>199039.61</td>\n",
       "      <td>421709.78</td>\n",
       "      <td>5187.46</td>\n",
       "      <td>622238.44</td>\n",
       "      <td>400529.93</td>\n",
       "      <td>221708.51</td>\n",
       "      <td>0.0</td>\n",
       "      <td>1.0</td>\n",
       "      <td>2017</td>\n",
       "      <td>51.0</td>\n",
       "      <td>4</td>\n",
       "      <td>30</td>\n",
       "    </tr>\n",
       "    <tr>\n",
       "      <th>12363</th>\n",
       "      <td>2.06</td>\n",
       "      <td>21876.53</td>\n",
       "      <td>98.10</td>\n",
       "      <td>19190.24</td>\n",
       "      <td>0.00</td>\n",
       "      <td>2588.19</td>\n",
       "      <td>2588.19</td>\n",
       "      <td>0.00</td>\n",
       "      <td>0.0</td>\n",
       "      <td>1.0</td>\n",
       "      <td>2016</td>\n",
       "      <td>8.0</td>\n",
       "      <td>9</td>\n",
       "      <td>18</td>\n",
       "    </tr>\n",
       "    <tr>\n",
       "      <th>14333</th>\n",
       "      <td>1.75</td>\n",
       "      <td>44666.00</td>\n",
       "      <td>5090.29</td>\n",
       "      <td>15508.61</td>\n",
       "      <td>572.47</td>\n",
       "      <td>23494.63</td>\n",
       "      <td>5220.39</td>\n",
       "      <td>18274.24</td>\n",
       "      <td>0.0</td>\n",
       "      <td>1.0</td>\n",
       "      <td>2016</td>\n",
       "      <td>46.0</td>\n",
       "      <td>10</td>\n",
       "      <td>30</td>\n",
       "    </tr>\n",
       "    <tr>\n",
       "      <th>...</th>\n",
       "      <td>...</td>\n",
       "      <td>...</td>\n",
       "      <td>...</td>\n",
       "      <td>...</td>\n",
       "      <td>...</td>\n",
       "      <td>...</td>\n",
       "      <td>...</td>\n",
       "      <td>...</td>\n",
       "      <td>...</td>\n",
       "      <td>...</td>\n",
       "      <td>...</td>\n",
       "      <td>...</td>\n",
       "      <td>...</td>\n",
       "      <td>...</td>\n",
       "    </tr>\n",
       "    <tr>\n",
       "      <th>5624</th>\n",
       "      <td>1.62</td>\n",
       "      <td>71076.94</td>\n",
       "      <td>2483.36</td>\n",
       "      <td>55509.31</td>\n",
       "      <td>33.88</td>\n",
       "      <td>13050.39</td>\n",
       "      <td>9877.42</td>\n",
       "      <td>3172.97</td>\n",
       "      <td>0.0</td>\n",
       "      <td>0.0</td>\n",
       "      <td>2017</td>\n",
       "      <td>0.0</td>\n",
       "      <td>11</td>\n",
       "      <td>5</td>\n",
       "    </tr>\n",
       "    <tr>\n",
       "      <th>14733</th>\n",
       "      <td>1.48</td>\n",
       "      <td>14413.74</td>\n",
       "      <td>1308.04</td>\n",
       "      <td>4865.24</td>\n",
       "      <td>4.77</td>\n",
       "      <td>8235.69</td>\n",
       "      <td>7090.72</td>\n",
       "      <td>1144.97</td>\n",
       "      <td>0.0</td>\n",
       "      <td>1.0</td>\n",
       "      <td>2016</td>\n",
       "      <td>53.0</td>\n",
       "      <td>2</td>\n",
       "      <td>21</td>\n",
       "    </tr>\n",
       "    <tr>\n",
       "      <th>15427</th>\n",
       "      <td>0.73</td>\n",
       "      <td>50686.37</td>\n",
       "      <td>18780.82</td>\n",
       "      <td>3010.21</td>\n",
       "      <td>270.75</td>\n",
       "      <td>28624.59</td>\n",
       "      <td>15918.63</td>\n",
       "      <td>12705.96</td>\n",
       "      <td>0.0</td>\n",
       "      <td>1.0</td>\n",
       "      <td>2017</td>\n",
       "      <td>12.0</td>\n",
       "      <td>1</td>\n",
       "      <td>15</td>\n",
       "    </tr>\n",
       "    <tr>\n",
       "      <th>15583</th>\n",
       "      <td>1.14</td>\n",
       "      <td>149650.50</td>\n",
       "      <td>4548.46</td>\n",
       "      <td>70014.08</td>\n",
       "      <td>0.00</td>\n",
       "      <td>75087.96</td>\n",
       "      <td>20170.52</td>\n",
       "      <td>54917.44</td>\n",
       "      <td>0.0</td>\n",
       "      <td>1.0</td>\n",
       "      <td>2017</td>\n",
       "      <td>15.0</td>\n",
       "      <td>2</td>\n",
       "      <td>5</td>\n",
       "    </tr>\n",
       "    <tr>\n",
       "      <th>11907</th>\n",
       "      <td>1.58</td>\n",
       "      <td>11456.41</td>\n",
       "      <td>5443.30</td>\n",
       "      <td>3745.90</td>\n",
       "      <td>0.00</td>\n",
       "      <td>2267.21</td>\n",
       "      <td>1460.20</td>\n",
       "      <td>807.01</td>\n",
       "      <td>0.0</td>\n",
       "      <td>1.0</td>\n",
       "      <td>2015</td>\n",
       "      <td>53.0</td>\n",
       "      <td>6</td>\n",
       "      <td>28</td>\n",
       "    </tr>\n",
       "  </tbody>\n",
       "</table>\n",
       "<p>18249 rows × 14 columns</p>\n",
       "</div>"
      ],
      "text/plain": [
       "       AveragePrice  Total Volume       4046       4225     4770  Total Bags  \\\n",
       "17418          2.09       6199.50     488.90    2780.41     0.00     2930.19   \n",
       "6099           1.01     247158.00    4314.00   89762.00   793.00   152289.00   \n",
       "17479          1.68    1248175.29  199039.61  421709.78  5187.46   622238.44   \n",
       "12363          2.06      21876.53      98.10   19190.24     0.00     2588.19   \n",
       "14333          1.75      44666.00    5090.29   15508.61   572.47    23494.63   \n",
       "...             ...           ...        ...        ...      ...         ...   \n",
       "5624           1.62      71076.94    2483.36   55509.31    33.88    13050.39   \n",
       "14733          1.48      14413.74    1308.04    4865.24     4.77     8235.69   \n",
       "15427          0.73      50686.37   18780.82    3010.21   270.75    28624.59   \n",
       "15583          1.14     149650.50    4548.46   70014.08     0.00    75087.96   \n",
       "11907          1.58      11456.41    5443.30    3745.90     0.00     2267.21   \n",
       "\n",
       "       Small Bags  Large Bags  XLarge Bags  type  year  region  month  day  \n",
       "17418     2923.52        6.67          0.0   1.0  2017    50.0      6   25  \n",
       "6099     19201.00   132886.00        203.0   0.0  2017     9.0     11   19  \n",
       "17479   400529.93   221708.51          0.0   1.0  2017    51.0      4   30  \n",
       "12363     2588.19        0.00          0.0   1.0  2016     8.0      9   18  \n",
       "14333     5220.39    18274.24          0.0   1.0  2016    46.0     10   30  \n",
       "...           ...         ...          ...   ...   ...     ...    ...  ...  \n",
       "5624      9877.42     3172.97          0.0   0.0  2017     0.0     11    5  \n",
       "14733     7090.72     1144.97          0.0   1.0  2016    53.0      2   21  \n",
       "15427    15918.63    12705.96          0.0   1.0  2017    12.0      1   15  \n",
       "15583    20170.52    54917.44          0.0   1.0  2017    15.0      2    5  \n",
       "11907     1460.20      807.01          0.0   1.0  2015    53.0      6   28  \n",
       "\n",
       "[18249 rows x 14 columns]"
      ]
     },
     "execution_count": 19,
     "metadata": {},
     "output_type": "execute_result"
    }
   ],
   "source": [
    "from sklearn.preprocessing import OrdinalEncoder\n",
    "enc = OrdinalEncoder()\n",
    "\n",
    "for i in df.columns:\n",
    "    if df[i].dtypes == 'object':\n",
    "        df[i]= enc.fit_transform(df[i].values.reshape(-1,1))\n",
    "        \n",
    "df"
   ]
  },
  {
   "cell_type": "markdown",
   "id": "8ebff0e1",
   "metadata": {},
   "source": [
    "# correlation of one variable vs all other variables, or multicorelation"
   ]
  },
  {
   "cell_type": "code",
   "execution_count": 20,
   "id": "e1cfe66f",
   "metadata": {},
   "outputs": [
    {
     "data": {
      "image/png": "[encoded data removed]",
      "text/plain": [
       "<Figure size 1080x720 with 2 Axes>"
      ]
     },
     "metadata": {
      "needs_background": "light"
     },
     "output_type": "display_data"
    }
   ],
   "source": [
    "plt.figure(figsize=(15,10))\n",
    "sns.heatmap(df.corr(), annot=True, annot_kws={'size':10}, linewidths=0.1,fmt=\"0.2f\")\n",
    "plt.show()"
   ]
  },
  {
   "cell_type": "code",
   "execution_count": 21,
   "id": "87cbcb94",
   "metadata": {},
   "outputs": [],
   "source": [
    "df.drop(columns='day',inplace=True) # as no need in dataset"
   ]
  },
  {
   "cell_type": "markdown",
   "id": "984ddce1",
   "metadata": {},
   "source": [
    "# [1] Regression Problem (Target = AveragePrice)"
   ]
  },
  {
   "cell_type": "markdown",
   "id": "9dd1f4ce",
   "metadata": {},
   "source": [
    "## Now Check correlation of the columns with the target column"
   ]
  },
  {
   "cell_type": "code",
   "execution_count": 22,
   "id": "0a1eea4b",
   "metadata": {},
   "outputs": [
    {
     "data": {
      "text/plain": [
       "4046           -0.208317\n",
       "Total Volume   -0.192752\n",
       "4770           -0.179446\n",
       "Total Bags     -0.177088\n",
       "Small Bags     -0.174730\n",
       "Large Bags     -0.172940\n",
       "4225           -0.172928\n",
       "XLarge Bags    -0.117592\n",
       "region         -0.011716\n",
       "year            0.093197\n",
       "month           0.162409\n",
       "type            0.615845\n",
       "AveragePrice    1.000000\n",
       "Name: AveragePrice, dtype: float64"
      ]
     },
     "execution_count": 22,
     "metadata": {},
     "output_type": "execute_result"
    }
   ],
   "source": [
    "df.corr()['AveragePrice'].sort_values()"
   ]
  },
  {
   "cell_type": "code",
   "execution_count": 23,
   "id": "84e9db1e",
   "metadata": {},
   "outputs": [
    {
     "data": {
      "image/png": "[encoded data removed]",
      "text/plain": [
       "<Figure size 864x576 with 1 Axes>"
      ]
     },
     "metadata": {
      "needs_background": "light"
     },
     "output_type": "display_data"
    }
   ],
   "source": [
    "plt.figure(figsize=(12,8))\n",
    "df.corr()['AveragePrice'].sort_values().plot(kind='bar')\n",
    "plt.xlabel('Features')\n",
    "plt.title('Correlation with target')\n",
    "plt.show()"
   ]
  },
  {
   "cell_type": "markdown",
   "id": "8cc372f9",
   "metadata": {},
   "source": [
    "Here type feature has high coorelation with AveragePrice.\n",
    "1. here 0 = no any correlation\n",
    "2. -0.3 to 0.3 = less correlation\n",
    "3. -0.5 to 0.5 = moderate correlation\n",
    "4. -0.7 to 0.7 = high correlation\n",
    "5. any<-0.7 = very high -ve correlation\n",
    "6. any>=0.7 = very high +ve correlation"
   ]
  },
  {
   "cell_type": "markdown",
   "id": "9800366f",
   "metadata": {},
   "source": [
    "## Now Separting columns into features and target"
   ]
  },
  {
   "cell_type": "code",
   "execution_count": 24,
   "id": "23ae3aa8",
   "metadata": {},
   "outputs": [
    {
     "data": {
      "text/plain": [
       "region           0.000030\n",
       "type             0.000329\n",
       "month            0.106617\n",
       "year             0.215339\n",
       "4046             8.648220\n",
       "4225             8.942466\n",
       "Total Volume     9.007687\n",
       "Small Bags       9.540660\n",
       "Total Bags       9.756072\n",
       "Large Bags       9.796455\n",
       "4770            10.159396\n",
       "XLarge Bags     13.139751\n",
       "dtype: float64"
      ]
     },
     "execution_count": 24,
     "metadata": {},
     "output_type": "execute_result"
    }
   ],
   "source": [
    "x=df.drop(columns='AveragePrice')\n",
    "y=df.AveragePrice\n",
    "x.skew().sort_values()"
   ]
  },
  {
   "cell_type": "markdown",
   "id": "24ab60e3",
   "metadata": {},
   "source": [
    "## Now use PowerTransformation method to save our skewed data."
   ]
  },
  {
   "cell_type": "code",
   "execution_count": 25,
   "id": "9d5c795b",
   "metadata": {},
   "outputs": [
    {
     "data": {
      "text/plain": [
       "region         -0.261443\n",
       "month          -0.146584\n",
       "Large Bags     -0.073809\n",
       "4046           -0.022679\n",
       "4225           -0.017740\n",
       "Total Bags     -0.001626\n",
       "year            0.000000\n",
       "type            0.000329\n",
       "Small Bags      0.007058\n",
       "Total Volume    0.011171\n",
       "4770            0.032184\n",
       "XLarge Bags     0.793520\n",
       "dtype: float64"
      ]
     },
     "execution_count": 25,
     "metadata": {},
     "output_type": "execute_result"
    }
   ],
   "source": [
    "from sklearn.preprocessing import PowerTransformer\n",
    "\n",
    "df_pt = PowerTransformer()\n",
    "df_pw = pd.DataFrame(df_pt.fit_transform(x),columns=x.columns)\n",
    "df_pw.skew().sort_values()\n"
   ]
  },
  {
   "cell_type": "markdown",
   "id": "d17dc4d9",
   "metadata": {},
   "source": [
    "Using power transformation, most of skewness has removed\n",
    "\n",
    "Keeping +/-0.65 o +/-0.7 as the range of skwness, also don't consider categorical column for skewness."
   ]
  },
  {
   "cell_type": "markdown",
   "id": "513022fd",
   "metadata": {},
   "source": [
    "## Now remove remaining outliers using z-score technique."
   ]
  },
  {
   "cell_type": "code",
   "execution_count": 26,
   "id": "ca361e29",
   "metadata": {},
   "outputs": [
    {
     "data": {
      "text/plain": [
       "(array([  536,   661,   732,   732,  1235,  1235,  1235,  1496,  1832,\n",
       "         1832,  2176,  2189,  2413,  2425,  3024,  3024,  3459,  3475,\n",
       "         3653,  3753,  3905,  4264,  4346,  4346,  4369,  4426,  4426,\n",
       "         4597,  4679,  4679,  4912,  5312,  5312,  5636,  5927,  6030,\n",
       "         6127,  6209,  6252,  6252,  6726,  6737,  6941,  6974,  7043,\n",
       "         7127,  7207,  7214,  7214,  7560,  7986,  7986,  8108,  8108,\n",
       "         8185,  8417,  8436,  8559,  8810,  9264,  9348,  9381,  9580,\n",
       "         9668,  9668,  9758, 10346, 10346, 10467, 10496, 10583, 10717,\n",
       "        10795, 10795, 11029, 11029, 11154, 11267, 11298, 11733, 12140,\n",
       "        12140, 12203, 12696, 12748, 12748, 12790, 12965, 13642, 13717,\n",
       "        13735, 13770, 13849, 15129, 15576, 15576, 15687, 15778, 15783,\n",
       "        15942, 16016, 16072, 16181, 16674, 16855, 17176, 17232, 17545,\n",
       "        17586, 17630, 17630, 17634, 17756, 17765, 17765, 17765, 17765,\n",
       "        17892, 17892, 17991, 18094, 18131, 18157], dtype=int64),\n",
       " array([4, 5, 4, 5, 2, 4, 5, 5, 4, 5, 4, 5, 4, 4, 4, 5, 4, 5, 5, 5, 4, 5,\n",
       "        4, 5, 5, 4, 5, 4, 4, 5, 4, 2, 5, 5, 0, 5, 5, 4, 4, 5, 5, 5, 4, 5,\n",
       "        4, 5, 4, 4, 5, 5, 4, 5, 4, 5, 4, 5, 5, 4, 5, 5, 5, 4, 5, 4, 5, 5,\n",
       "        4, 5, 5, 5, 4, 5, 4, 5, 4, 5, 5, 5, 4, 5, 4, 5, 5, 5, 4, 5, 5, 5,\n",
       "        5, 4, 5, 5, 4, 4, 4, 5, 5, 5, 2, 4, 4, 5, 4, 5, 4, 4, 4, 5, 5, 4,\n",
       "        5, 5, 4, 2, 4, 5, 6, 4, 5, 4, 4, 5, 5], dtype=int64))"
      ]
     },
     "execution_count": 26,
     "metadata": {},
     "output_type": "execute_result"
    }
   ],
   "source": [
    "from scipy.stats import zscore\n",
    "z=np.abs(zscore(df_pw))\n",
    "threshold=3\n",
    "np.where(z>3)"
   ]
  },
  {
   "cell_type": "code",
   "execution_count": 27,
   "id": "916aee48",
   "metadata": {},
   "outputs": [
    {
     "name": "stdout",
     "output_type": "stream",
     "text": [
      "percentage of loss of data by zscore is : 0.5370157268891446\n"
     ]
    }
   ],
   "source": [
    "df_new= df[(z<3).all(axis=1)]\n",
    "\n",
    "print('percentage of loss of data by zscore is :',((df.shape[0]-df_new.shape[0])/df.shape[0])*100)"
   ]
  },
  {
   "cell_type": "markdown",
   "id": "e10550c8",
   "metadata": {},
   "source": [
    "Very less data, we have loss using z-tarnsformation method, let's proceed further."
   ]
  },
  {
   "cell_type": "code",
   "execution_count": 28,
   "id": "efb2f27e",
   "metadata": {},
   "outputs": [
    {
     "data": {
      "text/html": [
       "<div>\n",
       "<style scoped>\n",
       "    .dataframe tbody tr th:only-of-type {\n",
       "        vertical-align: middle;\n",
       "    }\n",
       "\n",
       "    .dataframe tbody tr th {\n",
       "        vertical-align: top;\n",
       "    }\n",
       "\n",
       "    .dataframe thead th {\n",
       "        text-align: right;\n",
       "    }\n",
       "</style>\n",
       "<table border=\"1\" class=\"dataframe\">\n",
       "  <thead>\n",
       "    <tr style=\"text-align: right;\">\n",
       "      <th></th>\n",
       "      <th>AveragePrice</th>\n",
       "      <th>Total Volume</th>\n",
       "      <th>4046</th>\n",
       "      <th>4225</th>\n",
       "      <th>4770</th>\n",
       "      <th>Total Bags</th>\n",
       "      <th>Small Bags</th>\n",
       "      <th>Large Bags</th>\n",
       "      <th>XLarge Bags</th>\n",
       "      <th>type</th>\n",
       "      <th>year</th>\n",
       "      <th>region</th>\n",
       "      <th>month</th>\n",
       "    </tr>\n",
       "  </thead>\n",
       "  <tbody>\n",
       "    <tr>\n",
       "      <th>17418</th>\n",
       "      <td>2.09</td>\n",
       "      <td>6199.50</td>\n",
       "      <td>488.90</td>\n",
       "      <td>2780.41</td>\n",
       "      <td>0.00</td>\n",
       "      <td>2930.19</td>\n",
       "      <td>2923.52</td>\n",
       "      <td>6.67</td>\n",
       "      <td>0.0</td>\n",
       "      <td>1.0</td>\n",
       "      <td>2017</td>\n",
       "      <td>50.0</td>\n",
       "      <td>6</td>\n",
       "    </tr>\n",
       "    <tr>\n",
       "      <th>6099</th>\n",
       "      <td>1.01</td>\n",
       "      <td>247158.00</td>\n",
       "      <td>4314.00</td>\n",
       "      <td>89762.00</td>\n",
       "      <td>793.00</td>\n",
       "      <td>152289.00</td>\n",
       "      <td>19201.00</td>\n",
       "      <td>132886.00</td>\n",
       "      <td>203.0</td>\n",
       "      <td>0.0</td>\n",
       "      <td>2017</td>\n",
       "      <td>9.0</td>\n",
       "      <td>11</td>\n",
       "    </tr>\n",
       "    <tr>\n",
       "      <th>17479</th>\n",
       "      <td>1.68</td>\n",
       "      <td>1248175.29</td>\n",
       "      <td>199039.61</td>\n",
       "      <td>421709.78</td>\n",
       "      <td>5187.46</td>\n",
       "      <td>622238.44</td>\n",
       "      <td>400529.93</td>\n",
       "      <td>221708.51</td>\n",
       "      <td>0.0</td>\n",
       "      <td>1.0</td>\n",
       "      <td>2017</td>\n",
       "      <td>51.0</td>\n",
       "      <td>4</td>\n",
       "    </tr>\n",
       "    <tr>\n",
       "      <th>12363</th>\n",
       "      <td>2.06</td>\n",
       "      <td>21876.53</td>\n",
       "      <td>98.10</td>\n",
       "      <td>19190.24</td>\n",
       "      <td>0.00</td>\n",
       "      <td>2588.19</td>\n",
       "      <td>2588.19</td>\n",
       "      <td>0.00</td>\n",
       "      <td>0.0</td>\n",
       "      <td>1.0</td>\n",
       "      <td>2016</td>\n",
       "      <td>8.0</td>\n",
       "      <td>9</td>\n",
       "    </tr>\n",
       "    <tr>\n",
       "      <th>14333</th>\n",
       "      <td>1.75</td>\n",
       "      <td>44666.00</td>\n",
       "      <td>5090.29</td>\n",
       "      <td>15508.61</td>\n",
       "      <td>572.47</td>\n",
       "      <td>23494.63</td>\n",
       "      <td>5220.39</td>\n",
       "      <td>18274.24</td>\n",
       "      <td>0.0</td>\n",
       "      <td>1.0</td>\n",
       "      <td>2016</td>\n",
       "      <td>46.0</td>\n",
       "      <td>10</td>\n",
       "    </tr>\n",
       "    <tr>\n",
       "      <th>...</th>\n",
       "      <td>...</td>\n",
       "      <td>...</td>\n",
       "      <td>...</td>\n",
       "      <td>...</td>\n",
       "      <td>...</td>\n",
       "      <td>...</td>\n",
       "      <td>...</td>\n",
       "      <td>...</td>\n",
       "      <td>...</td>\n",
       "      <td>...</td>\n",
       "      <td>...</td>\n",
       "      <td>...</td>\n",
       "      <td>...</td>\n",
       "    </tr>\n",
       "    <tr>\n",
       "      <th>5624</th>\n",
       "      <td>1.62</td>\n",
       "      <td>71076.94</td>\n",
       "      <td>2483.36</td>\n",
       "      <td>55509.31</td>\n",
       "      <td>33.88</td>\n",
       "      <td>13050.39</td>\n",
       "      <td>9877.42</td>\n",
       "      <td>3172.97</td>\n",
       "      <td>0.0</td>\n",
       "      <td>0.0</td>\n",
       "      <td>2017</td>\n",
       "      <td>0.0</td>\n",
       "      <td>11</td>\n",
       "    </tr>\n",
       "    <tr>\n",
       "      <th>14733</th>\n",
       "      <td>1.48</td>\n",
       "      <td>14413.74</td>\n",
       "      <td>1308.04</td>\n",
       "      <td>4865.24</td>\n",
       "      <td>4.77</td>\n",
       "      <td>8235.69</td>\n",
       "      <td>7090.72</td>\n",
       "      <td>1144.97</td>\n",
       "      <td>0.0</td>\n",
       "      <td>1.0</td>\n",
       "      <td>2016</td>\n",
       "      <td>53.0</td>\n",
       "      <td>2</td>\n",
       "    </tr>\n",
       "    <tr>\n",
       "      <th>15427</th>\n",
       "      <td>0.73</td>\n",
       "      <td>50686.37</td>\n",
       "      <td>18780.82</td>\n",
       "      <td>3010.21</td>\n",
       "      <td>270.75</td>\n",
       "      <td>28624.59</td>\n",
       "      <td>15918.63</td>\n",
       "      <td>12705.96</td>\n",
       "      <td>0.0</td>\n",
       "      <td>1.0</td>\n",
       "      <td>2017</td>\n",
       "      <td>12.0</td>\n",
       "      <td>1</td>\n",
       "    </tr>\n",
       "    <tr>\n",
       "      <th>15583</th>\n",
       "      <td>1.14</td>\n",
       "      <td>149650.50</td>\n",
       "      <td>4548.46</td>\n",
       "      <td>70014.08</td>\n",
       "      <td>0.00</td>\n",
       "      <td>75087.96</td>\n",
       "      <td>20170.52</td>\n",
       "      <td>54917.44</td>\n",
       "      <td>0.0</td>\n",
       "      <td>1.0</td>\n",
       "      <td>2017</td>\n",
       "      <td>15.0</td>\n",
       "      <td>2</td>\n",
       "    </tr>\n",
       "    <tr>\n",
       "      <th>11907</th>\n",
       "      <td>1.58</td>\n",
       "      <td>11456.41</td>\n",
       "      <td>5443.30</td>\n",
       "      <td>3745.90</td>\n",
       "      <td>0.00</td>\n",
       "      <td>2267.21</td>\n",
       "      <td>1460.20</td>\n",
       "      <td>807.01</td>\n",
       "      <td>0.0</td>\n",
       "      <td>1.0</td>\n",
       "      <td>2015</td>\n",
       "      <td>53.0</td>\n",
       "      <td>6</td>\n",
       "    </tr>\n",
       "  </tbody>\n",
       "</table>\n",
       "<p>18151 rows × 13 columns</p>\n",
       "</div>"
      ],
      "text/plain": [
       "       AveragePrice  Total Volume       4046       4225     4770  Total Bags  \\\n",
       "17418          2.09       6199.50     488.90    2780.41     0.00     2930.19   \n",
       "6099           1.01     247158.00    4314.00   89762.00   793.00   152289.00   \n",
       "17479          1.68    1248175.29  199039.61  421709.78  5187.46   622238.44   \n",
       "12363          2.06      21876.53      98.10   19190.24     0.00     2588.19   \n",
       "14333          1.75      44666.00    5090.29   15508.61   572.47    23494.63   \n",
       "...             ...           ...        ...        ...      ...         ...   \n",
       "5624           1.62      71076.94    2483.36   55509.31    33.88    13050.39   \n",
       "14733          1.48      14413.74    1308.04    4865.24     4.77     8235.69   \n",
       "15427          0.73      50686.37   18780.82    3010.21   270.75    28624.59   \n",
       "15583          1.14     149650.50    4548.46   70014.08     0.00    75087.96   \n",
       "11907          1.58      11456.41    5443.30    3745.90     0.00     2267.21   \n",
       "\n",
       "       Small Bags  Large Bags  XLarge Bags  type  year  region  month  \n",
       "17418     2923.52        6.67          0.0   1.0  2017    50.0      6  \n",
       "6099     19201.00   132886.00        203.0   0.0  2017     9.0     11  \n",
       "17479   400529.93   221708.51          0.0   1.0  2017    51.0      4  \n",
       "12363     2588.19        0.00          0.0   1.0  2016     8.0      9  \n",
       "14333     5220.39    18274.24          0.0   1.0  2016    46.0     10  \n",
       "...           ...         ...          ...   ...   ...     ...    ...  \n",
       "5624      9877.42     3172.97          0.0   0.0  2017     0.0     11  \n",
       "14733     7090.72     1144.97          0.0   1.0  2016    53.0      2  \n",
       "15427    15918.63    12705.96          0.0   1.0  2017    12.0      1  \n",
       "15583    20170.52    54917.44          0.0   1.0  2017    15.0      2  \n",
       "11907     1460.20      807.01          0.0   1.0  2015    53.0      6  \n",
       "\n",
       "[18151 rows x 13 columns]"
      ]
     },
     "execution_count": 28,
     "metadata": {},
     "output_type": "execute_result"
    }
   ],
   "source": [
    "df_new"
   ]
  },
  {
   "cell_type": "markdown",
   "id": "e2728466",
   "metadata": {},
   "source": [
    "Now dataset is readly for further process, no nulls, all data in numeric form, with 18151 rows and 12 columns"
   ]
  },
  {
   "cell_type": "code",
   "execution_count": 29,
   "id": "9b42fae7",
   "metadata": {},
   "outputs": [],
   "source": [
    "x_new=df_new.drop(columns='AveragePrice')\n",
    "y_new=df_new.AveragePrice"
   ]
  },
  {
   "cell_type": "markdown",
   "id": "36f8cf8c",
   "metadata": {},
   "source": [
    "## Data Scaling using Standard Scaler"
   ]
  },
  {
   "cell_type": "code",
   "execution_count": 30,
   "id": "e20beacc",
   "metadata": {},
   "outputs": [
    {
     "data": {
      "text/html": [
       "<div>\n",
       "<style scoped>\n",
       "    .dataframe tbody tr th:only-of-type {\n",
       "        vertical-align: middle;\n",
       "    }\n",
       "\n",
       "    .dataframe tbody tr th {\n",
       "        vertical-align: top;\n",
       "    }\n",
       "\n",
       "    .dataframe thead th {\n",
       "        text-align: right;\n",
       "    }\n",
       "</style>\n",
       "<table border=\"1\" class=\"dataframe\">\n",
       "  <thead>\n",
       "    <tr style=\"text-align: right;\">\n",
       "      <th></th>\n",
       "      <th>Total Volume</th>\n",
       "      <th>4046</th>\n",
       "      <th>4225</th>\n",
       "      <th>4770</th>\n",
       "      <th>Total Bags</th>\n",
       "      <th>Small Bags</th>\n",
       "      <th>Large Bags</th>\n",
       "      <th>XLarge Bags</th>\n",
       "      <th>type</th>\n",
       "      <th>year</th>\n",
       "      <th>region</th>\n",
       "      <th>month</th>\n",
       "    </tr>\n",
       "  </thead>\n",
       "  <tbody>\n",
       "    <tr>\n",
       "      <th>0</th>\n",
       "      <td>-0.244418</td>\n",
       "      <td>-0.231271</td>\n",
       "      <td>-0.242671</td>\n",
       "      <td>-0.212641</td>\n",
       "      <td>-0.239858</td>\n",
       "      <td>-0.240161</td>\n",
       "      <td>-0.222435</td>\n",
       "      <td>-0.175752</td>\n",
       "      <td>1.000496</td>\n",
       "      <td>0.907844</td>\n",
       "      <td>1.507508</td>\n",
       "      <td>-0.050189</td>\n",
       "    </tr>\n",
       "    <tr>\n",
       "      <th>1</th>\n",
       "      <td>-0.174808</td>\n",
       "      <td>-0.228255</td>\n",
       "      <td>-0.170591</td>\n",
       "      <td>-0.205280</td>\n",
       "      <td>-0.088748</td>\n",
       "      <td>-0.218394</td>\n",
       "      <td>0.321231</td>\n",
       "      <td>-0.164304</td>\n",
       "      <td>-0.999504</td>\n",
       "      <td>0.907844</td>\n",
       "      <td>-1.122511</td>\n",
       "      <td>1.365260</td>\n",
       "    </tr>\n",
       "    <tr>\n",
       "      <th>2</th>\n",
       "      <td>0.114376</td>\n",
       "      <td>-0.074675</td>\n",
       "      <td>0.104487</td>\n",
       "      <td>-0.164486</td>\n",
       "      <td>0.386709</td>\n",
       "      <td>0.291529</td>\n",
       "      <td>0.684642</td>\n",
       "      <td>-0.175752</td>\n",
       "      <td>1.000496</td>\n",
       "      <td>0.907844</td>\n",
       "      <td>1.571655</td>\n",
       "      <td>-0.616369</td>\n",
       "    </tr>\n",
       "    <tr>\n",
       "      <th>3</th>\n",
       "      <td>-0.239890</td>\n",
       "      <td>-0.231580</td>\n",
       "      <td>-0.229072</td>\n",
       "      <td>-0.212641</td>\n",
       "      <td>-0.240204</td>\n",
       "      <td>-0.240609</td>\n",
       "      <td>-0.222462</td>\n",
       "      <td>-0.175752</td>\n",
       "      <td>1.000496</td>\n",
       "      <td>-0.156507</td>\n",
       "      <td>-1.186657</td>\n",
       "      <td>0.799080</td>\n",
       "    </tr>\n",
       "    <tr>\n",
       "      <th>4</th>\n",
       "      <td>-0.233306</td>\n",
       "      <td>-0.227642</td>\n",
       "      <td>-0.232123</td>\n",
       "      <td>-0.207327</td>\n",
       "      <td>-0.219052</td>\n",
       "      <td>-0.237089</td>\n",
       "      <td>-0.147694</td>\n",
       "      <td>-0.175752</td>\n",
       "      <td>1.000496</td>\n",
       "      <td>-0.156507</td>\n",
       "      <td>1.250921</td>\n",
       "      <td>1.082170</td>\n",
       "    </tr>\n",
       "    <tr>\n",
       "      <th>...</th>\n",
       "      <td>...</td>\n",
       "      <td>...</td>\n",
       "      <td>...</td>\n",
       "      <td>...</td>\n",
       "      <td>...</td>\n",
       "      <td>...</td>\n",
       "      <td>...</td>\n",
       "      <td>...</td>\n",
       "      <td>...</td>\n",
       "      <td>...</td>\n",
       "      <td>...</td>\n",
       "      <td>...</td>\n",
       "    </tr>\n",
       "    <tr>\n",
       "      <th>18146</th>\n",
       "      <td>-0.225676</td>\n",
       "      <td>-0.229698</td>\n",
       "      <td>-0.198976</td>\n",
       "      <td>-0.212327</td>\n",
       "      <td>-0.229619</td>\n",
       "      <td>-0.230862</td>\n",
       "      <td>-0.209480</td>\n",
       "      <td>-0.175752</td>\n",
       "      <td>-0.999504</td>\n",
       "      <td>0.907844</td>\n",
       "      <td>-1.699832</td>\n",
       "      <td>1.365260</td>\n",
       "    </tr>\n",
       "    <tr>\n",
       "      <th>18147</th>\n",
       "      <td>-0.242045</td>\n",
       "      <td>-0.230625</td>\n",
       "      <td>-0.240943</td>\n",
       "      <td>-0.212597</td>\n",
       "      <td>-0.234490</td>\n",
       "      <td>-0.234588</td>\n",
       "      <td>-0.217778</td>\n",
       "      <td>-0.175752</td>\n",
       "      <td>1.000496</td>\n",
       "      <td>-0.156507</td>\n",
       "      <td>1.699948</td>\n",
       "      <td>-1.182549</td>\n",
       "    </tr>\n",
       "    <tr>\n",
       "      <th>18148</th>\n",
       "      <td>-0.231567</td>\n",
       "      <td>-0.216845</td>\n",
       "      <td>-0.242480</td>\n",
       "      <td>-0.210128</td>\n",
       "      <td>-0.213862</td>\n",
       "      <td>-0.222783</td>\n",
       "      <td>-0.170477</td>\n",
       "      <td>-0.175752</td>\n",
       "      <td>1.000496</td>\n",
       "      <td>0.907844</td>\n",
       "      <td>-0.930070</td>\n",
       "      <td>-1.465639</td>\n",
       "    </tr>\n",
       "    <tr>\n",
       "      <th>18149</th>\n",
       "      <td>-0.202977</td>\n",
       "      <td>-0.228070</td>\n",
       "      <td>-0.186956</td>\n",
       "      <td>-0.212641</td>\n",
       "      <td>-0.166854</td>\n",
       "      <td>-0.217098</td>\n",
       "      <td>0.002228</td>\n",
       "      <td>-0.175752</td>\n",
       "      <td>1.000496</td>\n",
       "      <td>0.907844</td>\n",
       "      <td>-0.737630</td>\n",
       "      <td>-1.182549</td>\n",
       "    </tr>\n",
       "    <tr>\n",
       "      <th>18150</th>\n",
       "      <td>-0.242900</td>\n",
       "      <td>-0.227364</td>\n",
       "      <td>-0.241871</td>\n",
       "      <td>-0.212641</td>\n",
       "      <td>-0.240528</td>\n",
       "      <td>-0.242118</td>\n",
       "      <td>-0.219160</td>\n",
       "      <td>-0.175752</td>\n",
       "      <td>1.000496</td>\n",
       "      <td>-1.220857</td>\n",
       "      <td>1.699948</td>\n",
       "      <td>-0.050189</td>\n",
       "    </tr>\n",
       "  </tbody>\n",
       "</table>\n",
       "<p>18151 rows × 12 columns</p>\n",
       "</div>"
      ],
      "text/plain": [
       "       Total Volume      4046      4225      4770  Total Bags  Small Bags  \\\n",
       "0         -0.244418 -0.231271 -0.242671 -0.212641   -0.239858   -0.240161   \n",
       "1         -0.174808 -0.228255 -0.170591 -0.205280   -0.088748   -0.218394   \n",
       "2          0.114376 -0.074675  0.104487 -0.164486    0.386709    0.291529   \n",
       "3         -0.239890 -0.231580 -0.229072 -0.212641   -0.240204   -0.240609   \n",
       "4         -0.233306 -0.227642 -0.232123 -0.207327   -0.219052   -0.237089   \n",
       "...             ...       ...       ...       ...         ...         ...   \n",
       "18146     -0.225676 -0.229698 -0.198976 -0.212327   -0.229619   -0.230862   \n",
       "18147     -0.242045 -0.230625 -0.240943 -0.212597   -0.234490   -0.234588   \n",
       "18148     -0.231567 -0.216845 -0.242480 -0.210128   -0.213862   -0.222783   \n",
       "18149     -0.202977 -0.228070 -0.186956 -0.212641   -0.166854   -0.217098   \n",
       "18150     -0.242900 -0.227364 -0.241871 -0.212641   -0.240528   -0.242118   \n",
       "\n",
       "       Large Bags  XLarge Bags      type      year    region     month  \n",
       "0       -0.222435    -0.175752  1.000496  0.907844  1.507508 -0.050189  \n",
       "1        0.321231    -0.164304 -0.999504  0.907844 -1.122511  1.365260  \n",
       "2        0.684642    -0.175752  1.000496  0.907844  1.571655 -0.616369  \n",
       "3       -0.222462    -0.175752  1.000496 -0.156507 -1.186657  0.799080  \n",
       "4       -0.147694    -0.175752  1.000496 -0.156507  1.250921  1.082170  \n",
       "...           ...          ...       ...       ...       ...       ...  \n",
       "18146   -0.209480    -0.175752 -0.999504  0.907844 -1.699832  1.365260  \n",
       "18147   -0.217778    -0.175752  1.000496 -0.156507  1.699948 -1.182549  \n",
       "18148   -0.170477    -0.175752  1.000496  0.907844 -0.930070 -1.465639  \n",
       "18149    0.002228    -0.175752  1.000496  0.907844 -0.737630 -1.182549  \n",
       "18150   -0.219160    -0.175752  1.000496 -1.220857  1.699948 -0.050189  \n",
       "\n",
       "[18151 rows x 12 columns]"
      ]
     },
     "execution_count": 30,
     "metadata": {},
     "output_type": "execute_result"
    }
   ],
   "source": [
    "from sklearn.preprocessing import StandardScaler\n",
    "scaler = StandardScaler()\n",
    "x_scaled = pd.DataFrame(scaler.fit_transform(x_new),columns=x_new.columns)\n",
    "x_scaled"
   ]
  },
  {
   "cell_type": "markdown",
   "id": "e2bcc8fb",
   "metadata": {},
   "source": [
    "## Checking VIF values to solve multicollinearity"
   ]
  },
  {
   "cell_type": "code",
   "execution_count": 31,
   "id": "afea26fe",
   "metadata": {},
   "outputs": [
    {
     "data": {
      "text/html": [
       "<div>\n",
       "<style scoped>\n",
       "    .dataframe tbody tr th:only-of-type {\n",
       "        vertical-align: middle;\n",
       "    }\n",
       "\n",
       "    .dataframe tbody tr th {\n",
       "        vertical-align: top;\n",
       "    }\n",
       "\n",
       "    .dataframe thead th {\n",
       "        text-align: right;\n",
       "    }\n",
       "</style>\n",
       "<table border=\"1\" class=\"dataframe\">\n",
       "  <thead>\n",
       "    <tr style=\"text-align: right;\">\n",
       "      <th></th>\n",
       "      <th>vif</th>\n",
       "      <th>features</th>\n",
       "    </tr>\n",
       "  </thead>\n",
       "  <tbody>\n",
       "    <tr>\n",
       "      <th>0</th>\n",
       "      <td>4.923175e+09</td>\n",
       "      <td>Total Volume</td>\n",
       "    </tr>\n",
       "    <tr>\n",
       "      <th>1</th>\n",
       "      <td>6.605186e+08</td>\n",
       "      <td>4046</td>\n",
       "    </tr>\n",
       "    <tr>\n",
       "      <th>2</th>\n",
       "      <td>5.983259e+08</td>\n",
       "      <td>4225</td>\n",
       "    </tr>\n",
       "    <tr>\n",
       "      <th>3</th>\n",
       "      <td>4.768070e+06</td>\n",
       "      <td>4770</td>\n",
       "    </tr>\n",
       "    <tr>\n",
       "      <th>4</th>\n",
       "      <td>2.370316e+14</td>\n",
       "      <td>Total Bags</td>\n",
       "    </tr>\n",
       "    <tr>\n",
       "      <th>5</th>\n",
       "      <td>1.364727e+14</td>\n",
       "      <td>Small Bags</td>\n",
       "    </tr>\n",
       "    <tr>\n",
       "      <th>6</th>\n",
       "      <td>1.445778e+13</td>\n",
       "      <td>Large Bags</td>\n",
       "    </tr>\n",
       "    <tr>\n",
       "      <th>7</th>\n",
       "      <td>7.616373e+10</td>\n",
       "      <td>XLarge Bags</td>\n",
       "    </tr>\n",
       "    <tr>\n",
       "      <th>8</th>\n",
       "      <td>1.061680e+00</td>\n",
       "      <td>type</td>\n",
       "    </tr>\n",
       "    <tr>\n",
       "      <th>9</th>\n",
       "      <td>1.084192e+00</td>\n",
       "      <td>year</td>\n",
       "    </tr>\n",
       "    <tr>\n",
       "      <th>10</th>\n",
       "      <td>1.069727e+00</td>\n",
       "      <td>region</td>\n",
       "    </tr>\n",
       "    <tr>\n",
       "      <th>11</th>\n",
       "      <td>1.036866e+00</td>\n",
       "      <td>month</td>\n",
       "    </tr>\n",
       "  </tbody>\n",
       "</table>\n",
       "</div>"
      ],
      "text/plain": [
       "             vif      features\n",
       "0   4.923175e+09  Total Volume\n",
       "1   6.605186e+08          4046\n",
       "2   5.983259e+08          4225\n",
       "3   4.768070e+06          4770\n",
       "4   2.370316e+14    Total Bags\n",
       "5   1.364727e+14    Small Bags\n",
       "6   1.445778e+13    Large Bags\n",
       "7   7.616373e+10   XLarge Bags\n",
       "8   1.061680e+00          type\n",
       "9   1.084192e+00          year\n",
       "10  1.069727e+00        region\n",
       "11  1.036866e+00         month"
      ]
     },
     "execution_count": 31,
     "metadata": {},
     "output_type": "execute_result"
    }
   ],
   "source": [
    "from statsmodels.stats.outliers_influence import variance_inflation_factor\n",
    "\n",
    "vif = pd.DataFrame()\n",
    "vif['vif']=[variance_inflation_factor(x_scaled.values, i) for i in range (x_scaled.shape[1])]\n",
    "vif['features'] = x_scaled.columns\n",
    "\n",
    "#let's check the values\n",
    "vif"
   ]
  },
  {
   "cell_type": "code",
   "execution_count": 32,
   "id": "0341e53e",
   "metadata": {},
   "outputs": [],
   "source": [
    "# Dropping the feature Total Volume\n",
    "x_scaled.drop(\"Total Bags\",axis=1, inplace=True)"
   ]
  },
  {
   "cell_type": "code",
   "execution_count": 33,
   "id": "0ec8bfd4",
   "metadata": {},
   "outputs": [
    {
     "data": {
      "text/html": [
       "<div>\n",
       "<style scoped>\n",
       "    .dataframe tbody tr th:only-of-type {\n",
       "        vertical-align: middle;\n",
       "    }\n",
       "\n",
       "    .dataframe tbody tr th {\n",
       "        vertical-align: top;\n",
       "    }\n",
       "\n",
       "    .dataframe thead th {\n",
       "        text-align: right;\n",
       "    }\n",
       "</style>\n",
       "<table border=\"1\" class=\"dataframe\">\n",
       "  <thead>\n",
       "    <tr style=\"text-align: right;\">\n",
       "      <th></th>\n",
       "      <th>vif</th>\n",
       "      <th>features</th>\n",
       "    </tr>\n",
       "  </thead>\n",
       "  <tbody>\n",
       "    <tr>\n",
       "      <th>0</th>\n",
       "      <td>4.923172e+09</td>\n",
       "      <td>Total Volume</td>\n",
       "    </tr>\n",
       "    <tr>\n",
       "      <th>1</th>\n",
       "      <td>6.605180e+08</td>\n",
       "      <td>4046</td>\n",
       "    </tr>\n",
       "    <tr>\n",
       "      <th>2</th>\n",
       "      <td>5.983254e+08</td>\n",
       "      <td>4225</td>\n",
       "    </tr>\n",
       "    <tr>\n",
       "      <th>3</th>\n",
       "      <td>4.768066e+06</td>\n",
       "      <td>4770</td>\n",
       "    </tr>\n",
       "    <tr>\n",
       "      <th>4</th>\n",
       "      <td>2.297808e+08</td>\n",
       "      <td>Small Bags</td>\n",
       "    </tr>\n",
       "    <tr>\n",
       "      <th>5</th>\n",
       "      <td>2.454450e+07</td>\n",
       "      <td>Large Bags</td>\n",
       "    </tr>\n",
       "    <tr>\n",
       "      <th>6</th>\n",
       "      <td>1.291572e+05</td>\n",
       "      <td>XLarge Bags</td>\n",
       "    </tr>\n",
       "    <tr>\n",
       "      <th>7</th>\n",
       "      <td>1.061626e+00</td>\n",
       "      <td>type</td>\n",
       "    </tr>\n",
       "    <tr>\n",
       "      <th>8</th>\n",
       "      <td>1.084129e+00</td>\n",
       "      <td>year</td>\n",
       "    </tr>\n",
       "    <tr>\n",
       "      <th>9</th>\n",
       "      <td>1.069703e+00</td>\n",
       "      <td>region</td>\n",
       "    </tr>\n",
       "    <tr>\n",
       "      <th>10</th>\n",
       "      <td>1.036662e+00</td>\n",
       "      <td>month</td>\n",
       "    </tr>\n",
       "  </tbody>\n",
       "</table>\n",
       "</div>"
      ],
      "text/plain": [
       "             vif      features\n",
       "0   4.923172e+09  Total Volume\n",
       "1   6.605180e+08          4046\n",
       "2   5.983254e+08          4225\n",
       "3   4.768066e+06          4770\n",
       "4   2.297808e+08    Small Bags\n",
       "5   2.454450e+07    Large Bags\n",
       "6   1.291572e+05   XLarge Bags\n",
       "7   1.061626e+00          type\n",
       "8   1.084129e+00          year\n",
       "9   1.069703e+00        region\n",
       "10  1.036662e+00         month"
      ]
     },
     "execution_count": 33,
     "metadata": {},
     "output_type": "execute_result"
    }
   ],
   "source": [
    "# Again checke the VIF after removing one column\n",
    "\n",
    "vif = pd.DataFrame()\n",
    "vif['vif']=[variance_inflation_factor(x_scaled.values, i) for i in range (x_scaled.shape[1])]\n",
    "vif['features'] = x_scaled.columns\n",
    "\n",
    "# let's check the values\n",
    "vif"
   ]
  },
  {
   "cell_type": "code",
   "execution_count": 34,
   "id": "205d8003",
   "metadata": {},
   "outputs": [],
   "source": [
    "# Dropping the feature Total Bags\n",
    "x_scaled.drop(\"Total Volume\",axis=1, inplace=True)"
   ]
  },
  {
   "cell_type": "code",
   "execution_count": 35,
   "id": "6dd0575d",
   "metadata": {},
   "outputs": [
    {
     "data": {
      "text/html": [
       "<div>\n",
       "<style scoped>\n",
       "    .dataframe tbody tr th:only-of-type {\n",
       "        vertical-align: middle;\n",
       "    }\n",
       "\n",
       "    .dataframe tbody tr th {\n",
       "        vertical-align: top;\n",
       "    }\n",
       "\n",
       "    .dataframe thead th {\n",
       "        text-align: right;\n",
       "    }\n",
       "</style>\n",
       "<table border=\"1\" class=\"dataframe\">\n",
       "  <thead>\n",
       "    <tr style=\"text-align: right;\">\n",
       "      <th></th>\n",
       "      <th>vif</th>\n",
       "      <th>features</th>\n",
       "    </tr>\n",
       "  </thead>\n",
       "  <tbody>\n",
       "    <tr>\n",
       "      <th>0</th>\n",
       "      <td>10.146994</td>\n",
       "      <td>4046</td>\n",
       "    </tr>\n",
       "    <tr>\n",
       "      <th>1</th>\n",
       "      <td>13.402426</td>\n",
       "      <td>4225</td>\n",
       "    </tr>\n",
       "    <tr>\n",
       "      <th>2</th>\n",
       "      <td>5.391239</td>\n",
       "      <td>4770</td>\n",
       "    </tr>\n",
       "    <tr>\n",
       "      <th>3</th>\n",
       "      <td>19.530136</td>\n",
       "      <td>Small Bags</td>\n",
       "    </tr>\n",
       "    <tr>\n",
       "      <th>4</th>\n",
       "      <td>5.633406</td>\n",
       "      <td>Large Bags</td>\n",
       "    </tr>\n",
       "    <tr>\n",
       "      <th>5</th>\n",
       "      <td>3.420749</td>\n",
       "      <td>XLarge Bags</td>\n",
       "    </tr>\n",
       "    <tr>\n",
       "      <th>6</th>\n",
       "      <td>1.059790</td>\n",
       "      <td>type</td>\n",
       "    </tr>\n",
       "    <tr>\n",
       "      <th>7</th>\n",
       "      <td>1.081526</td>\n",
       "      <td>year</td>\n",
       "    </tr>\n",
       "    <tr>\n",
       "      <th>8</th>\n",
       "      <td>1.069554</td>\n",
       "      <td>region</td>\n",
       "    </tr>\n",
       "    <tr>\n",
       "      <th>9</th>\n",
       "      <td>1.036266</td>\n",
       "      <td>month</td>\n",
       "    </tr>\n",
       "  </tbody>\n",
       "</table>\n",
       "</div>"
      ],
      "text/plain": [
       "         vif     features\n",
       "0  10.146994         4046\n",
       "1  13.402426         4225\n",
       "2   5.391239         4770\n",
       "3  19.530136   Small Bags\n",
       "4   5.633406   Large Bags\n",
       "5   3.420749  XLarge Bags\n",
       "6   1.059790         type\n",
       "7   1.081526         year\n",
       "8   1.069554       region\n",
       "9   1.036266        month"
      ]
     },
     "execution_count": 35,
     "metadata": {},
     "output_type": "execute_result"
    }
   ],
   "source": [
    "# Again checke the VIF after removing one column\n",
    "\n",
    "vif = pd.DataFrame()\n",
    "vif['vif']=[variance_inflation_factor(x_scaled.values, i) for i in range (x_scaled.shape[1])]\n",
    "vif['features'] = x_scaled.columns\n",
    "\n",
    "# let's check the values\n",
    "vif"
   ]
  },
  {
   "cell_type": "code",
   "execution_count": 36,
   "id": "8540bab5",
   "metadata": {},
   "outputs": [],
   "source": [
    "X=x_scaled\n",
    "y=y_new"
   ]
  },
  {
   "cell_type": "markdown",
   "id": "fa93d186",
   "metadata": {},
   "source": [
    "# Regression Model Development"
   ]
  },
  {
   "cell_type": "code",
   "execution_count": 37,
   "id": "08c36006",
   "metadata": {},
   "outputs": [],
   "source": [
    "#import the necessary model algos.\n",
    "#regression\n",
    "from sklearn.linear_model import LinearRegression,Ridge,Lasso,RidgeCV,LassoCV\n",
    "from sklearn.neighbors import KNeighborsRegressor\n",
    "from sklearn.ensemble import RandomForestRegressor\n",
    "from sklearn.tree import DecisionTreeRegressor\n",
    "from sklearn.svm import SVR\n",
    "from sklearn.ensemble import BaggingRegressor,GradientBoostingRegressor,AdaBoostRegressor\n",
    "\n",
    "\n",
    "#model selection\n",
    "from sklearn.model_selection import train_test_split,cross_val_score\n",
    "from sklearn.model_selection import KFold\n",
    "\n",
    "#evaluation metrics\n",
    "from sklearn.metrics import r2_score"
   ]
  },
  {
   "cell_type": "code",
   "execution_count": 38,
   "id": "f33c64ae",
   "metadata": {},
   "outputs": [],
   "source": [
    "LR = LinearRegression()\n",
    "LSO= Lasso()\n",
    "RIG= Ridge()\n",
    "KNN= KNeighborsRegressor()\n",
    "RF = RandomForestRegressor()\n",
    "DT = DecisionTreeRegressor()\n",
    "SV = SVR()\n",
    "BAG= BaggingRegressor()\n",
    "GRA= GradientBoostingRegressor()\n",
    "ADA= AdaBoostRegressor()"
   ]
  },
  {
   "cell_type": "code",
   "execution_count": 40,
   "id": "04327897",
   "metadata": {},
   "outputs": [
    {
     "data": {
      "text/html": [
       "<div>\n",
       "<style scoped>\n",
       "    .dataframe tbody tr th:only-of-type {\n",
       "        vertical-align: middle;\n",
       "    }\n",
       "\n",
       "    .dataframe tbody tr th {\n",
       "        vertical-align: top;\n",
       "    }\n",
       "\n",
       "    .dataframe thead th {\n",
       "        text-align: right;\n",
       "    }\n",
       "</style>\n",
       "<table border=\"1\" class=\"dataframe\">\n",
       "  <thead>\n",
       "    <tr style=\"text-align: right;\">\n",
       "      <th></th>\n",
       "      <th>Model Name</th>\n",
       "      <th>Accuracy Score (without tuning)</th>\n",
       "    </tr>\n",
       "  </thead>\n",
       "  <tbody>\n",
       "    <tr>\n",
       "      <th>0</th>\n",
       "      <td>LR = LinearRegression()</td>\n",
       "      <td>-23.35</td>\n",
       "    </tr>\n",
       "    <tr>\n",
       "      <th>1</th>\n",
       "      <td>LSO = Lasso()</td>\n",
       "      <td>0.00</td>\n",
       "    </tr>\n",
       "    <tr>\n",
       "      <th>2</th>\n",
       "      <td>RIG = Ridge()</td>\n",
       "      <td>-23.37</td>\n",
       "    </tr>\n",
       "    <tr>\n",
       "      <th>3</th>\n",
       "      <td>KNN = KNeighborsRegressor()</td>\n",
       "      <td>70.66</td>\n",
       "    </tr>\n",
       "    <tr>\n",
       "      <th>4</th>\n",
       "      <td>RF = RandomForestRegressor()</td>\n",
       "      <td>87.06</td>\n",
       "    </tr>\n",
       "    <tr>\n",
       "      <th>5</th>\n",
       "      <td>BAG = BaggingRegressor()</td>\n",
       "      <td>85.06</td>\n",
       "    </tr>\n",
       "    <tr>\n",
       "      <th>6</th>\n",
       "      <td>DT = DecisionTreeRegressor()</td>\n",
       "      <td>76.38</td>\n",
       "    </tr>\n",
       "    <tr>\n",
       "      <th>7</th>\n",
       "      <td>SV = SVR()</td>\n",
       "      <td>24.32</td>\n",
       "    </tr>\n",
       "    <tr>\n",
       "      <th>8</th>\n",
       "      <td>GRA = GradientBoostingRegressor()</td>\n",
       "      <td>60.85</td>\n",
       "    </tr>\n",
       "    <tr>\n",
       "      <th>9</th>\n",
       "      <td>ADA = AdaBoostRegressor()</td>\n",
       "      <td>35.17</td>\n",
       "    </tr>\n",
       "  </tbody>\n",
       "</table>\n",
       "</div>"
      ],
      "text/plain": [
       "                          Model Name  Accuracy Score (without tuning)\n",
       "0            LR = LinearRegression()                           -23.35\n",
       "1                      LSO = Lasso()                             0.00\n",
       "2                      RIG = Ridge()                           -23.37\n",
       "3        KNN = KNeighborsRegressor()                            70.66\n",
       "4       RF = RandomForestRegressor()                            87.06\n",
       "5           BAG = BaggingRegressor()                            85.06\n",
       "6       DT = DecisionTreeRegressor()                            76.38\n",
       "7                         SV = SVR()                            24.32\n",
       "8  GRA = GradientBoostingRegressor()                            60.85\n",
       "9          ADA = AdaBoostRegressor()                            35.17"
      ]
     },
     "execution_count": 40,
     "metadata": {},
     "output_type": "execute_result"
    }
   ],
   "source": [
    "model=[LinearRegression(), Lasso(), Ridge(), KNeighborsRegressor(), RandomForestRegressor(), BaggingRegressor(),\n",
    "       DecisionTreeRegressor(), SVR(), GradientBoostingRegressor(), AdaBoostRegressor()]\n",
    "\n",
    "models=['LR = LinearRegression()','LSO = Lasso()', 'RIG = Ridge()', 'KNN = KNeighborsRegressor()',\n",
    "        'RF = RandomForestRegressor()', 'BAG = BaggingRegressor()', 'DT = DecisionTreeRegressor()', 'SV = SVR()', \n",
    "        'GRA = GradientBoostingRegressor()', 'ADA = AdaBoostRegressor()']\n",
    "\n",
    "acc_result=[]\n",
    "\n",
    "x_train,x_test,y_train,y_test=train_test_split(X,y,test_size=0.20,random_state=11)\n",
    "\n",
    "for i in range(len(model)):\n",
    "    clf=model[i]\n",
    "    clf.fit(x_train,y_train)\n",
    "    y_pred=clf.predict(x_test)\n",
    "    acc_result.append(round (r2_score(y_pred,y_test)*100,2))\n",
    "\n",
    "Result_df=pd.DataFrame({'Model Name':models, 'Accuracy Score (without tuning)':acc_result})\n",
    "Result_df"
   ]
  },
  {
   "cell_type": "markdown",
   "id": "59ea86ee",
   "metadata": {},
   "source": [
    "# 1.1 Linear Regression:"
   ]
  },
  {
   "cell_type": "code",
   "execution_count": 41,
   "id": "b986db87",
   "metadata": {},
   "outputs": [
    {
     "name": "stdout",
     "output_type": "stream",
     "text": [
      "Index of max vaule of test's R2 score at 870\n",
      "Index of max vaule of train's R2 score at 331\n"
     ]
    }
   ],
   "source": [
    "r2s_train=[]\n",
    "r2s_test=[]\n",
    "\n",
    "for i in range (0,1000):\n",
    "    x_train, x_test, y_train, y_test = train_test_split(X, y, test_size=0.20, random_state=i)\n",
    "    \n",
    "    lr = LinearRegression()\n",
    "    lr.fit(x_train,y_train)\n",
    "    \n",
    "    x_lr_predict=lr.predict(x_train)\n",
    "    y_lr_predict=lr.predict(x_test)\n",
    "    \n",
    "    r2s_train.append(r2_score(y_train,x_lr_predict))\n",
    "    r2s_test.append(r2_score(y_test,y_lr_predict))\n",
    "\n",
    "    \n",
    "r2s_test_index= r2s_test.index(max(r2s_test))\n",
    "print(\"Index of max vaule of test's R2 score at\",r2s_test_index)\n",
    "        \n",
    "r2s_train_index= r2s_train.index(max(r2s_train))    \n",
    "print(\"Index of max vaule of train's R2 score at\",r2s_train_index)"
   ]
  },
  {
   "cell_type": "code",
   "execution_count": 42,
   "id": "eb008373",
   "metadata": {},
   "outputs": [
    {
     "name": "stdout",
     "output_type": "stream",
     "text": [
      "The training accurancy @ 870 state is: 0.4311595245392462\n",
      "The testing accurancy @ 870 state is: 0.46764944343087067\n"
     ]
    }
   ],
   "source": [
    "x_train, x_test, y_train, y_test = train_test_split(X, y, test_size=0.20, random_state=870)\n",
    "    \n",
    "lr.fit(x_train,y_train)\n",
    "x_predict=lr.predict(x_train)\n",
    "y_lr_predict=lr.predict(x_test)\n",
    "    \n",
    "print (\"The training accurancy @ 870 state is:\",r2_score(y_train,x_predict))\n",
    "print (\"The testing accurancy @ 870 state is:\",r2_score(y_test,y_lr_predict))"
   ]
  },
  {
   "cell_type": "code",
   "execution_count": 43,
   "id": "195f0cc6",
   "metadata": {},
   "outputs": [
    {
     "name": "stdout",
     "output_type": "stream",
     "text": [
      "At Cross fold 2 the cv score is 0.43810626515121787 \n",
      "  accuracy score for training is -0.4355135760318758 \n",
      "& accuracy for testing is 0.46764944343087067\n",
      "\n",
      "\n",
      "At Cross fold 3 the cv score is 0.43810626515121787 \n",
      "  accuracy score for training is -0.4355135760318758 \n",
      "& accuracy for testing is 0.46764944343087067\n",
      "\n",
      "\n",
      "At Cross fold 4 the cv score is 0.43810626515121787 \n",
      "  accuracy score for training is -0.4355135760318758 \n",
      "& accuracy for testing is 0.46764944343087067\n",
      "\n",
      "\n",
      "At Cross fold 5 the cv score is 0.43810626515121787 \n",
      "  accuracy score for training is -0.4355135760318758 \n",
      "& accuracy for testing is 0.46764944343087067\n",
      "\n",
      "\n",
      "At Cross fold 6 the cv score is 0.43810626515121787 \n",
      "  accuracy score for training is -0.4355135760318758 \n",
      "& accuracy for testing is 0.46764944343087067\n",
      "\n",
      "\n",
      "At Cross fold 7 the cv score is 0.43810626515121787 \n",
      "  accuracy score for training is -0.4355135760318758 \n",
      "& accuracy for testing is 0.46764944343087067\n",
      "\n",
      "\n",
      "At Cross fold 8 the cv score is 0.43810626515121787 \n",
      "  accuracy score for training is -0.4355135760318758 \n",
      "& accuracy for testing is 0.46764944343087067\n",
      "\n",
      "\n",
      "At Cross fold 9 the cv score is 0.43810626515121787 \n",
      "  accuracy score for training is -0.4355135760318758 \n",
      "& accuracy for testing is 0.46764944343087067\n",
      "\n",
      "\n"
     ]
    }
   ],
   "source": [
    "#Cross-Validation of the Model\n",
    "\n",
    "kford_val=KFold(n_splits=10,shuffle=False)\n",
    "\n",
    "Train_accuracy=r2_score(y_train,x_lr_predict)\n",
    "Test_accuracy =r2_score(y_test,y_lr_predict)\n",
    "\n",
    "from sklearn.model_selection import cross_val_score\n",
    "\n",
    "for i in range (2,10):\n",
    "    cv_score = cross_val_score(lr,X,y,cv=kford_val)\n",
    "    cv_mean = cv_score.mean()\n",
    "    print(\"At Cross fold\", i, \"the cv score is\", cv_mean, \"\\n  accuracy score for training is\", Train_accuracy,\n",
    "          \"\\n& accuracy for testing is\", Test_accuracy)\n",
    "    print(\"\\n\")"
   ]
  },
  {
   "cell_type": "markdown",
   "id": "05a6af00",
   "metadata": {},
   "source": [
    "# 1.2 Lasso Regression:"
   ]
  },
  {
   "cell_type": "code",
   "execution_count": 48,
   "id": "aadcbe06",
   "metadata": {},
   "outputs": [
    {
     "data": {
      "text/plain": [
       "LassoCV(max_iter=100)"
      ]
     },
     "execution_count": 48,
     "metadata": {},
     "output_type": "execute_result"
    }
   ],
   "source": [
    "lasscv = LassoCV (alphas=None, max_iter= 100)\n",
    "lasscv.fit(x_train,y_train)"
   ]
  },
  {
   "cell_type": "code",
   "execution_count": 49,
   "id": "252a1b17",
   "metadata": {},
   "outputs": [
    {
     "data": {
      "text/plain": [
       "0.43113231263079077"
      ]
     },
     "execution_count": 49,
     "metadata": {},
     "output_type": "execute_result"
    }
   ],
   "source": [
    "# best alpha parameter\n",
    "alpha = lasscv.alpha_\n",
    "las = Lasso(alpha)\n",
    "las.fit(x_train,y_train)\n",
    "las.score(x_train,y_train)"
   ]
  },
  {
   "cell_type": "code",
   "execution_count": 50,
   "id": "50622c9c",
   "metadata": {},
   "outputs": [
    {
     "data": {
      "text/plain": [
       "0.46765255239258685"
      ]
     },
     "execution_count": 50,
     "metadata": {},
     "output_type": "execute_result"
    }
   ],
   "source": [
    "y_las_predict=las.predict(x_test)\n",
    "r2_score(y_test,y_las_predict)"
   ]
  },
  {
   "cell_type": "code",
   "execution_count": 51,
   "id": "5a9f66ce",
   "metadata": {},
   "outputs": [
    {
     "data": {
      "text/plain": [
       "0.43808950196021285"
      ]
     },
     "execution_count": 51,
     "metadata": {},
     "output_type": "execute_result"
    }
   ],
   "source": [
    "cv_score=cross_val_score(las,X,y,cv=kford_val)\n",
    "cv_score.mean()"
   ]
  },
  {
   "cell_type": "markdown",
   "id": "bb48fdfc",
   "metadata": {},
   "source": [
    "# 1.3 Ridge Regression:"
   ]
  },
  {
   "cell_type": "code",
   "execution_count": 52,
   "id": "630871d4",
   "metadata": {},
   "outputs": [
    {
     "data": {
      "text/plain": [
       "0.4311595243915962"
      ]
     },
     "execution_count": 52,
     "metadata": {},
     "output_type": "execute_result"
    }
   ],
   "source": [
    "ridgecv = RidgeCV(alphas = np.arange(0.001,0.1,0.01))\n",
    "ridgecv.fit(x_train,y_train)\n",
    "alpha = ridgecv.alpha_\n",
    "\n",
    "rig = Ridge (alpha)\n",
    "rig.fit(x_train,y_train)\n",
    "rig.score(x_train,y_train)"
   ]
  },
  {
   "cell_type": "code",
   "execution_count": 53,
   "id": "09e53572",
   "metadata": {},
   "outputs": [
    {
     "data": {
      "text/plain": [
       "0.46764931497065854"
      ]
     },
     "execution_count": 53,
     "metadata": {},
     "output_type": "execute_result"
    }
   ],
   "source": [
    "y_rig_predict=rig.predict(x_test)\n",
    "r2_score(y_test,y_rig_predict)"
   ]
  },
  {
   "cell_type": "code",
   "execution_count": 54,
   "id": "c941c23b",
   "metadata": {},
   "outputs": [
    {
     "data": {
      "text/plain": [
       "0.4381062957034471"
      ]
     },
     "execution_count": 54,
     "metadata": {},
     "output_type": "execute_result"
    }
   ],
   "source": [
    "cv_score=cross_val_score(rig,X,y,cv=kford_val)\n",
    "cv_score.mean()"
   ]
  },
  {
   "cell_type": "markdown",
   "id": "e93d33f7",
   "metadata": {},
   "source": [
    "# 1.4 KNeighbors Regressor:"
   ]
  },
  {
   "cell_type": "code",
   "execution_count": 55,
   "id": "1b4e590a",
   "metadata": {},
   "outputs": [
    {
     "name": "stdout",
     "output_type": "stream",
     "text": [
      "R2 Score: 0.6804169458228038\n",
      "Cross validation: 0.6869893114412943\n"
     ]
    }
   ],
   "source": [
    "knn=KNeighborsRegressor(n_neighbors=10)\n",
    "knn.fit(x_train,y_train)\n",
    "\n",
    "y_knn_predict=knn.predict(x_test)\n",
    "print('R2 Score:',r2_score(y_test,y_knn_predict))\n",
    "\n",
    "cv_score=cross_val_score(knn,x_scaled,y,cv=kford_val)\n",
    "print ('Cross validation:',cv_score.mean())"
   ]
  },
  {
   "cell_type": "markdown",
   "id": "a6d0193d",
   "metadata": {},
   "source": [
    "# 1.5 RandomForest Regression:"
   ]
  },
  {
   "cell_type": "code",
   "execution_count": 56,
   "id": "0b1f3749",
   "metadata": {},
   "outputs": [
    {
     "name": "stdout",
     "output_type": "stream",
     "text": [
      "R2 Score: 0.9005985819850308\n",
      "Cross validation: 0.8971889906633919\n"
     ]
    }
   ],
   "source": [
    "rf=RandomForestRegressor(criterion='mse')\n",
    "\n",
    "rf.fit(x_train,y_train)\n",
    "\n",
    "y_rf_predict=rf.predict(x_test)\n",
    "print('R2 Score:',r2_score(y_test,y_rf_predict))\n",
    "\n",
    "cv_score=cross_val_score(rf,x_scaled,y,cv=kford_val)\n",
    "print ('Cross validation:',cv_score.mean())"
   ]
  },
  {
   "cell_type": "markdown",
   "id": "46ca9c6d",
   "metadata": {},
   "source": [
    "# 1.6 Bagging Regression:"
   ]
  },
  {
   "cell_type": "code",
   "execution_count": 57,
   "id": "201ba7a1",
   "metadata": {},
   "outputs": [
    {
     "name": "stdout",
     "output_type": "stream",
     "text": [
      "R2 Score: 0.8883812969686363\n",
      "Cross validation: 0.8970588431917677\n"
     ]
    }
   ],
   "source": [
    "bag=BaggingRegressor(base_estimator=RandomForestRegressor(),random_state=69)\n",
    "\n",
    "bag.fit(x_train,y_train)\n",
    "\n",
    "y_bag_predict=bag.predict(x_test)\n",
    "print('R2 Score:',r2_score(y_test,y_bag_predict))\n",
    "\n",
    "cv_score=cross_val_score(rf,x_scaled,y,cv=kford_val)\n",
    "print ('Cross validation:',cv_score.mean())"
   ]
  },
  {
   "cell_type": "code",
   "execution_count": 58,
   "id": "cb009d7d",
   "metadata": {},
   "outputs": [
    {
     "data": {
      "text/html": [
       "<div>\n",
       "<style scoped>\n",
       "    .dataframe tbody tr th:only-of-type {\n",
       "        vertical-align: middle;\n",
       "    }\n",
       "\n",
       "    .dataframe tbody tr th {\n",
       "        vertical-align: top;\n",
       "    }\n",
       "\n",
       "    .dataframe thead th {\n",
       "        text-align: right;\n",
       "    }\n",
       "</style>\n",
       "<table border=\"1\" class=\"dataframe\">\n",
       "  <thead>\n",
       "    <tr style=\"text-align: right;\">\n",
       "      <th></th>\n",
       "      <th>Regressor</th>\n",
       "      <th>Accuracy Score (with tuning)</th>\n",
       "    </tr>\n",
       "  </thead>\n",
       "  <tbody>\n",
       "    <tr>\n",
       "      <th>0</th>\n",
       "      <td>lr = LinearRegression()</td>\n",
       "      <td>46.76</td>\n",
       "    </tr>\n",
       "    <tr>\n",
       "      <th>1</th>\n",
       "      <td>las = Lasso()</td>\n",
       "      <td>46.77</td>\n",
       "    </tr>\n",
       "    <tr>\n",
       "      <th>2</th>\n",
       "      <td>rig = Ridge()</td>\n",
       "      <td>46.76</td>\n",
       "    </tr>\n",
       "    <tr>\n",
       "      <th>3</th>\n",
       "      <td>knn = KNeighborsRegressor()</td>\n",
       "      <td>68.04</td>\n",
       "    </tr>\n",
       "    <tr>\n",
       "      <th>4</th>\n",
       "      <td>rf = RandomForestRegressor()</td>\n",
       "      <td>90.06</td>\n",
       "    </tr>\n",
       "    <tr>\n",
       "      <th>5</th>\n",
       "      <td>bag = BaggingRegressor()</td>\n",
       "      <td>88.84</td>\n",
       "    </tr>\n",
       "  </tbody>\n",
       "</table>\n",
       "</div>"
      ],
      "text/plain": [
       "                      Regressor  Accuracy Score (with tuning)\n",
       "0       lr = LinearRegression()                         46.76\n",
       "1                 las = Lasso()                         46.77\n",
       "2                 rig = Ridge()                         46.76\n",
       "3   knn = KNeighborsRegressor()                         68.04\n",
       "4  rf = RandomForestRegressor()                         90.06\n",
       "5      bag = BaggingRegressor()                         88.84"
      ]
     },
     "execution_count": 58,
     "metadata": {},
     "output_type": "execute_result"
    }
   ],
   "source": [
    "Acc_Score_tun =[round (r2_score(y_test,y_lr_predict)*100,2),\n",
    "                round (r2_score(y_test,y_las_predict)*100,2),\n",
    "                round (r2_score(y_test,y_rig_predict)*100,2),\n",
    "                round (r2_score(y_test,y_knn_predict)*100,2),\n",
    "                round (r2_score(y_test,y_rf_predict)*100,2),\n",
    "                round (r2_score(y_test,y_bag_predict)*100,2)]\n",
    "\n",
    "Avocado_AveragePrice = pd.DataFrame({'Regressor':['lr = LinearRegression()', 'las = Lasso()','rig = Ridge()',\n",
    "                                'knn = KNeighborsRegressor()' ,'rf = RandomForestRegressor()', 'bag = BaggingRegressor()'],\n",
    "                                 \n",
    "                                'Accuracy Score (with tuning)':Acc_Score_tun})\n",
    "Avocado_AveragePrice"
   ]
  },
  {
   "cell_type": "code",
   "execution_count": 59,
   "id": "8519df87",
   "metadata": {},
   "outputs": [
    {
     "data": {
      "text/html": [
       "<div>\n",
       "<style scoped>\n",
       "    .dataframe tbody tr th:only-of-type {\n",
       "        vertical-align: middle;\n",
       "    }\n",
       "\n",
       "    .dataframe tbody tr th {\n",
       "        vertical-align: top;\n",
       "    }\n",
       "\n",
       "    .dataframe thead th {\n",
       "        text-align: right;\n",
       "    }\n",
       "</style>\n",
       "<table border=\"1\" class=\"dataframe\">\n",
       "  <thead>\n",
       "    <tr style=\"text-align: right;\">\n",
       "      <th></th>\n",
       "      <th>Model Name</th>\n",
       "      <th>Accuracy Score (without tuning)</th>\n",
       "      <th>Regressor</th>\n",
       "      <th>Accuracy Score (with tuning)</th>\n",
       "    </tr>\n",
       "  </thead>\n",
       "  <tbody>\n",
       "    <tr>\n",
       "      <th>0</th>\n",
       "      <td>LR = LinearRegression()</td>\n",
       "      <td>-23.35</td>\n",
       "      <td>lr = LinearRegression()</td>\n",
       "      <td>46.76</td>\n",
       "    </tr>\n",
       "    <tr>\n",
       "      <th>1</th>\n",
       "      <td>LSO = Lasso()</td>\n",
       "      <td>0.00</td>\n",
       "      <td>las = Lasso()</td>\n",
       "      <td>46.77</td>\n",
       "    </tr>\n",
       "    <tr>\n",
       "      <th>2</th>\n",
       "      <td>RIG = Ridge()</td>\n",
       "      <td>-23.37</td>\n",
       "      <td>rig = Ridge()</td>\n",
       "      <td>46.76</td>\n",
       "    </tr>\n",
       "    <tr>\n",
       "      <th>3</th>\n",
       "      <td>KNN = KNeighborsRegressor()</td>\n",
       "      <td>70.66</td>\n",
       "      <td>knn = KNeighborsRegressor()</td>\n",
       "      <td>68.04</td>\n",
       "    </tr>\n",
       "    <tr>\n",
       "      <th>4</th>\n",
       "      <td>RF = RandomForestRegressor()</td>\n",
       "      <td>87.06</td>\n",
       "      <td>rf = RandomForestRegressor()</td>\n",
       "      <td>90.06</td>\n",
       "    </tr>\n",
       "    <tr>\n",
       "      <th>5</th>\n",
       "      <td>BAG = BaggingRegressor()</td>\n",
       "      <td>85.06</td>\n",
       "      <td>bag = BaggingRegressor()</td>\n",
       "      <td>88.84</td>\n",
       "    </tr>\n",
       "  </tbody>\n",
       "</table>\n",
       "</div>"
      ],
      "text/plain": [
       "                     Model Name  Accuracy Score (without tuning)  \\\n",
       "0       LR = LinearRegression()                           -23.35   \n",
       "1                 LSO = Lasso()                             0.00   \n",
       "2                 RIG = Ridge()                           -23.37   \n",
       "3   KNN = KNeighborsRegressor()                            70.66   \n",
       "4  RF = RandomForestRegressor()                            87.06   \n",
       "5      BAG = BaggingRegressor()                            85.06   \n",
       "\n",
       "                      Regressor  Accuracy Score (with tuning)  \n",
       "0       lr = LinearRegression()                         46.76  \n",
       "1                 las = Lasso()                         46.77  \n",
       "2                 rig = Ridge()                         46.76  \n",
       "3   knn = KNeighborsRegressor()                         68.04  \n",
       "4  rf = RandomForestRegressor()                         90.06  \n",
       "5      bag = BaggingRegressor()                         88.84  "
      ]
     },
     "execution_count": 59,
     "metadata": {},
     "output_type": "execute_result"
    }
   ],
   "source": [
    "AVOCADO_AVG_PRICE= pd.concat([Result_df[0:6],Avocado_AveragePrice],axis=1)\n",
    "AVOCADO_AVG_PRICE"
   ]
  },
  {
   "cell_type": "markdown",
   "id": "92763a09",
   "metadata": {},
   "source": [
    "# We are gettig high model accuracy: 90.06% in RandomForestRegressor model with very good cross_val_score: 89.7%,\n",
    "# The RandomForestRegressor shows model is performing exremely well, so we can save this model.\n",
    "# Save the model using pickle"
   ]
  },
  {
   "cell_type": "code",
   "execution_count": 60,
   "id": "6b731630",
   "metadata": {},
   "outputs": [],
   "source": [
    "import pickle\n",
    "pickle.dump(rf,open('Avocado-RegressionModel_AveragePrice','wb'))"
   ]
  },
  {
   "cell_type": "code",
   "execution_count": null,
   "id": "bf98c70a",
   "metadata": {},
   "outputs": [],
   "source": []
  },
  {
   "cell_type": "markdown",
   "id": "463c6e4c",
   "metadata": {},
   "source": [
    "# [2] Classification Problem (Target = region)"
   ]
  },
  {
   "cell_type": "markdown",
   "id": "82f1fab7",
   "metadata": {},
   "source": [
    "## Now Check correlation of the columns with the target column"
   ]
  },
  {
   "cell_type": "code",
   "execution_count": 61,
   "id": "06a17cda",
   "metadata": {},
   "outputs": [
    {
     "data": {
      "text/plain": [
       "AveragePrice   -0.011716\n",
       "type           -0.000280\n",
       "month          -0.000144\n",
       "year           -0.000055\n",
       "XLarge Bags     0.082281\n",
       "4770            0.095252\n",
       "4225            0.145726\n",
       "Small Bags      0.164702\n",
       "Total Volume    0.174176\n",
       "Total Bags      0.175256\n",
       "4046            0.192073\n",
       "Large Bags      0.198768\n",
       "region          1.000000\n",
       "Name: region, dtype: float64"
      ]
     },
     "execution_count": 61,
     "metadata": {},
     "output_type": "execute_result"
    }
   ],
   "source": [
    "df.corr()['region'].sort_values()"
   ]
  },
  {
   "cell_type": "code",
   "execution_count": 62,
   "id": "35d04d61",
   "metadata": {},
   "outputs": [
    {
     "data": {
      "image/png": "[encoded data removed]",
      "text/plain": [
       "<Figure size 864x576 with 1 Axes>"
      ]
     },
     "metadata": {
      "needs_background": "light"
     },
     "output_type": "display_data"
    }
   ],
   "source": [
    "plt.figure(figsize=(12,8))\n",
    "df.corr()['region'].sort_values().plot(kind='bar')\n",
    "plt.xlabel('Features')\n",
    "plt.title('Correlation with target')\n",
    "plt.show()"
   ]
  },
  {
   "cell_type": "markdown",
   "id": "c488742a",
   "metadata": {},
   "source": [
    "Thers is no any correlation of type, month and year features with target."
   ]
  },
  {
   "cell_type": "markdown",
   "id": "1fd87ae1",
   "metadata": {},
   "source": [
    "## Now Separting columns into features and target"
   ]
  },
  {
   "cell_type": "code",
   "execution_count": 63,
   "id": "4c057871",
   "metadata": {},
   "outputs": [
    {
     "data": {
      "text/plain": [
       "type             0.000329\n",
       "month            0.106617\n",
       "year             0.215339\n",
       "AveragePrice     0.580303\n",
       "4046             8.648220\n",
       "4225             8.942466\n",
       "Total Volume     9.007687\n",
       "Small Bags       9.540660\n",
       "Total Bags       9.756072\n",
       "Large Bags       9.796455\n",
       "4770            10.159396\n",
       "XLarge Bags     13.139751\n",
       "dtype: float64"
      ]
     },
     "execution_count": 63,
     "metadata": {},
     "output_type": "execute_result"
    }
   ],
   "source": [
    "xc=df.drop(columns='region')\n",
    "yc=df.region\n",
    "xc.skew().sort_values()"
   ]
  },
  {
   "cell_type": "markdown",
   "id": "bc954098",
   "metadata": {},
   "source": [
    "## Now use PowerTransformation method to save our skewed data."
   ]
  },
  {
   "cell_type": "code",
   "execution_count": 64,
   "id": "807b7844",
   "metadata": {},
   "outputs": [
    {
     "data": {
      "text/plain": [
       "month          -0.146584\n",
       "Large Bags     -0.073809\n",
       "4046           -0.022679\n",
       "4225           -0.017740\n",
       "Total Bags     -0.001626\n",
       "year            0.000000\n",
       "type            0.000329\n",
       "AveragePrice    0.005596\n",
       "Small Bags      0.007058\n",
       "Total Volume    0.011171\n",
       "4770            0.032184\n",
       "XLarge Bags     0.793520\n",
       "dtype: float64"
      ]
     },
     "execution_count": 64,
     "metadata": {},
     "output_type": "execute_result"
    }
   ],
   "source": [
    "df_pt = PowerTransformer()\n",
    "df_pwc = pd.DataFrame(df_pt.fit_transform(xc),columns=xc.columns)\n",
    "df_pwc.skew().sort_values()"
   ]
  },
  {
   "cell_type": "markdown",
   "id": "e2459e6a",
   "metadata": {},
   "source": [
    "## Now remove remaining outliers using z-transformation technique."
   ]
  },
  {
   "cell_type": "code",
   "execution_count": 65,
   "id": "1a31509b",
   "metadata": {},
   "outputs": [
    {
     "data": {
      "text/plain": [
       "(array([  536,   661,   732,   732,  1235,  1235,  1235,  1496,  1832,\n",
       "         1832,  2176,  2189,  2413,  2425,  3024,  3024,  3459,  3475,\n",
       "         3653,  3753,  3905,  4264,  4346,  4346,  4369,  4426,  4426,\n",
       "         4597,  4679,  4679,  4912,  5312,  5312,  5636,  5927,  6030,\n",
       "         6127,  6209,  6252,  6252,  6726,  6737,  6941,  6974,  7043,\n",
       "         7127,  7207,  7214,  7214,  7560,  7797,  7986,  7986,  8108,\n",
       "         8108,  8185,  8359,  8417,  8436,  8547,  8559,  8810,  9264,\n",
       "         9282,  9348,  9381,  9580,  9612,  9668,  9668,  9758,  9769,\n",
       "         9867, 10346, 10346, 10467, 10496, 10583, 10717, 10795, 10795,\n",
       "        11029, 11029, 11154, 11267, 11298, 11733, 12140, 12140, 12203,\n",
       "        12696, 12748, 12748, 12790, 12965, 13583, 13642, 13717, 13735,\n",
       "        13770, 13849, 15129, 15576, 15576, 15687, 15778, 15783, 15800,\n",
       "        15942, 16016, 16072, 16181, 16674, 16855, 17008, 17176, 17232,\n",
       "        17545, 17586, 17630, 17630, 17634, 17756, 17765, 17765, 17765,\n",
       "        17765, 17892, 17892, 17991, 18094, 18131, 18157], dtype=int64),\n",
       " array([5, 6, 5, 6, 3, 5, 6, 6, 5, 6, 5, 6, 5, 5, 5, 6, 5, 6, 6, 6, 5, 6,\n",
       "        5, 6, 6, 5, 6, 5, 5, 6, 5, 3, 6, 6, 1, 6, 6, 5, 5, 6, 6, 6, 5, 6,\n",
       "        5, 6, 5, 5, 6, 6, 0, 5, 6, 5, 6, 5, 0, 6, 6, 0, 5, 6, 6, 0, 6, 5,\n",
       "        6, 0, 5, 6, 6, 0, 0, 5, 6, 6, 6, 5, 6, 5, 6, 5, 6, 6, 6, 5, 6, 5,\n",
       "        6, 6, 6, 5, 6, 6, 6, 0, 6, 5, 6, 6, 5, 5, 5, 6, 6, 6, 3, 0, 5, 5,\n",
       "        6, 5, 6, 5, 0, 5, 5, 6, 6, 5, 6, 6, 5, 3, 5, 6, 7, 5, 6, 5, 5, 6,\n",
       "        6], dtype=int64))"
      ]
     },
     "execution_count": 65,
     "metadata": {},
     "output_type": "execute_result"
    }
   ],
   "source": [
    "from scipy.stats import zscore\n",
    "zc=np.abs(zscore(df_pwc))\n",
    "threshold=3\n",
    "np.where(zc>3)"
   ]
  },
  {
   "cell_type": "code",
   "execution_count": 66,
   "id": "eb525199",
   "metadata": {},
   "outputs": [
    {
     "name": "stdout",
     "output_type": "stream",
     "text": [
      "percentage of loss of data by zscore is : 0.5918132500410981\n"
     ]
    }
   ],
   "source": [
    "df_new_c= df[(zc<3).all(axis=1)]\n",
    "\n",
    "print('percentage of loss of data by zscore is :',((df.shape[0]-df_new_c.shape[0])/df.shape[0])*100)"
   ]
  },
  {
   "cell_type": "code",
   "execution_count": 67,
   "id": "809deb65",
   "metadata": {},
   "outputs": [],
   "source": [
    "xc_new=df_new_c.drop(columns='region')\n",
    "yc_new=df_new_c.region"
   ]
  },
  {
   "cell_type": "markdown",
   "id": "ebc0dab9",
   "metadata": {},
   "source": [
    "## Data Scaling using Standard Scaler"
   ]
  },
  {
   "cell_type": "code",
   "execution_count": 68,
   "id": "4d2c7e43",
   "metadata": {},
   "outputs": [
    {
     "data": {
      "text/html": [
       "<div>\n",
       "<style scoped>\n",
       "    .dataframe tbody tr th:only-of-type {\n",
       "        vertical-align: middle;\n",
       "    }\n",
       "\n",
       "    .dataframe tbody tr th {\n",
       "        vertical-align: top;\n",
       "    }\n",
       "\n",
       "    .dataframe thead th {\n",
       "        text-align: right;\n",
       "    }\n",
       "</style>\n",
       "<table border=\"1\" class=\"dataframe\">\n",
       "  <thead>\n",
       "    <tr style=\"text-align: right;\">\n",
       "      <th></th>\n",
       "      <th>AveragePrice</th>\n",
       "      <th>Total Volume</th>\n",
       "      <th>4046</th>\n",
       "      <th>4225</th>\n",
       "      <th>4770</th>\n",
       "      <th>Total Bags</th>\n",
       "      <th>Small Bags</th>\n",
       "      <th>Large Bags</th>\n",
       "      <th>XLarge Bags</th>\n",
       "      <th>type</th>\n",
       "      <th>year</th>\n",
       "      <th>month</th>\n",
       "    </tr>\n",
       "  </thead>\n",
       "  <tbody>\n",
       "    <tr>\n",
       "      <th>0</th>\n",
       "      <td>1.697421</td>\n",
       "      <td>-0.244526</td>\n",
       "      <td>-0.231339</td>\n",
       "      <td>-0.242689</td>\n",
       "      <td>-0.212555</td>\n",
       "      <td>-0.240049</td>\n",
       "      <td>-0.240417</td>\n",
       "      <td>-0.222395</td>\n",
       "      <td>-0.175769</td>\n",
       "      <td>1.000717</td>\n",
       "      <td>0.907954</td>\n",
       "      <td>-0.050220</td>\n",
       "    </tr>\n",
       "    <tr>\n",
       "      <th>1</th>\n",
       "      <td>-0.982982</td>\n",
       "      <td>-0.174772</td>\n",
       "      <td>-0.228317</td>\n",
       "      <td>-0.170508</td>\n",
       "      <td>-0.205190</td>\n",
       "      <td>-0.088525</td>\n",
       "      <td>-0.218582</td>\n",
       "      <td>0.321932</td>\n",
       "      <td>-0.164285</td>\n",
       "      <td>-0.999284</td>\n",
       "      <td>0.907954</td>\n",
       "      <td>1.365310</td>\n",
       "    </tr>\n",
       "    <tr>\n",
       "      <th>2</th>\n",
       "      <td>0.679861</td>\n",
       "      <td>0.115007</td>\n",
       "      <td>-0.074431</td>\n",
       "      <td>0.104955</td>\n",
       "      <td>-0.164373</td>\n",
       "      <td>0.388236</td>\n",
       "      <td>0.292953</td>\n",
       "      <td>0.685784</td>\n",
       "      <td>-0.175769</td>\n",
       "      <td>1.000717</td>\n",
       "      <td>0.907954</td>\n",
       "      <td>-0.616431</td>\n",
       "    </tr>\n",
       "    <tr>\n",
       "      <th>3</th>\n",
       "      <td>1.622965</td>\n",
       "      <td>-0.239987</td>\n",
       "      <td>-0.231648</td>\n",
       "      <td>-0.229071</td>\n",
       "      <td>-0.212555</td>\n",
       "      <td>-0.240396</td>\n",
       "      <td>-0.240867</td>\n",
       "      <td>-0.222422</td>\n",
       "      <td>-0.175769</td>\n",
       "      <td>1.000717</td>\n",
       "      <td>-0.156489</td>\n",
       "      <td>0.799098</td>\n",
       "    </tr>\n",
       "    <tr>\n",
       "      <th>4</th>\n",
       "      <td>0.853590</td>\n",
       "      <td>-0.233390</td>\n",
       "      <td>-0.227703</td>\n",
       "      <td>-0.232127</td>\n",
       "      <td>-0.207238</td>\n",
       "      <td>-0.219186</td>\n",
       "      <td>-0.237336</td>\n",
       "      <td>-0.147564</td>\n",
       "      <td>-0.175769</td>\n",
       "      <td>1.000717</td>\n",
       "      <td>-0.156489</td>\n",
       "      <td>1.082204</td>\n",
       "    </tr>\n",
       "    <tr>\n",
       "      <th>...</th>\n",
       "      <td>...</td>\n",
       "      <td>...</td>\n",
       "      <td>...</td>\n",
       "      <td>...</td>\n",
       "      <td>...</td>\n",
       "      <td>...</td>\n",
       "      <td>...</td>\n",
       "      <td>...</td>\n",
       "      <td>...</td>\n",
       "      <td>...</td>\n",
       "      <td>...</td>\n",
       "      <td>...</td>\n",
       "    </tr>\n",
       "    <tr>\n",
       "      <th>18136</th>\n",
       "      <td>0.530949</td>\n",
       "      <td>-0.225745</td>\n",
       "      <td>-0.229763</td>\n",
       "      <td>-0.198933</td>\n",
       "      <td>-0.212241</td>\n",
       "      <td>-0.229782</td>\n",
       "      <td>-0.231089</td>\n",
       "      <td>-0.209424</td>\n",
       "      <td>-0.175769</td>\n",
       "      <td>-0.999284</td>\n",
       "      <td>0.907954</td>\n",
       "      <td>1.365310</td>\n",
       "    </tr>\n",
       "    <tr>\n",
       "      <th>18137</th>\n",
       "      <td>0.183490</td>\n",
       "      <td>-0.242148</td>\n",
       "      <td>-0.230692</td>\n",
       "      <td>-0.240959</td>\n",
       "      <td>-0.212511</td>\n",
       "      <td>-0.234667</td>\n",
       "      <td>-0.234827</td>\n",
       "      <td>-0.217732</td>\n",
       "      <td>-0.175769</td>\n",
       "      <td>1.000717</td>\n",
       "      <td>-0.156489</td>\n",
       "      <td>-1.182643</td>\n",
       "    </tr>\n",
       "    <tr>\n",
       "      <th>18138</th>\n",
       "      <td>-1.677901</td>\n",
       "      <td>-0.231647</td>\n",
       "      <td>-0.216884</td>\n",
       "      <td>-0.242498</td>\n",
       "      <td>-0.210041</td>\n",
       "      <td>-0.213982</td>\n",
       "      <td>-0.222985</td>\n",
       "      <td>-0.170373</td>\n",
       "      <td>-0.175769</td>\n",
       "      <td>1.000717</td>\n",
       "      <td>0.907954</td>\n",
       "      <td>-1.465749</td>\n",
       "    </tr>\n",
       "    <tr>\n",
       "      <th>18139</th>\n",
       "      <td>-0.660341</td>\n",
       "      <td>-0.202999</td>\n",
       "      <td>-0.228131</td>\n",
       "      <td>-0.186896</td>\n",
       "      <td>-0.212555</td>\n",
       "      <td>-0.166845</td>\n",
       "      <td>-0.217281</td>\n",
       "      <td>0.002541</td>\n",
       "      <td>-0.175769</td>\n",
       "      <td>1.000717</td>\n",
       "      <td>0.907954</td>\n",
       "      <td>-1.182643</td>\n",
       "    </tr>\n",
       "    <tr>\n",
       "      <th>18140</th>\n",
       "      <td>0.431675</td>\n",
       "      <td>-0.243004</td>\n",
       "      <td>-0.227424</td>\n",
       "      <td>-0.241888</td>\n",
       "      <td>-0.212555</td>\n",
       "      <td>-0.240722</td>\n",
       "      <td>-0.242380</td>\n",
       "      <td>-0.219116</td>\n",
       "      <td>-0.175769</td>\n",
       "      <td>1.000717</td>\n",
       "      <td>-1.220933</td>\n",
       "      <td>-0.050220</td>\n",
       "    </tr>\n",
       "  </tbody>\n",
       "</table>\n",
       "<p>18141 rows × 12 columns</p>\n",
       "</div>"
      ],
      "text/plain": [
       "       AveragePrice  Total Volume      4046      4225      4770  Total Bags  \\\n",
       "0          1.697421     -0.244526 -0.231339 -0.242689 -0.212555   -0.240049   \n",
       "1         -0.982982     -0.174772 -0.228317 -0.170508 -0.205190   -0.088525   \n",
       "2          0.679861      0.115007 -0.074431  0.104955 -0.164373    0.388236   \n",
       "3          1.622965     -0.239987 -0.231648 -0.229071 -0.212555   -0.240396   \n",
       "4          0.853590     -0.233390 -0.227703 -0.232127 -0.207238   -0.219186   \n",
       "...             ...           ...       ...       ...       ...         ...   \n",
       "18136      0.530949     -0.225745 -0.229763 -0.198933 -0.212241   -0.229782   \n",
       "18137      0.183490     -0.242148 -0.230692 -0.240959 -0.212511   -0.234667   \n",
       "18138     -1.677901     -0.231647 -0.216884 -0.242498 -0.210041   -0.213982   \n",
       "18139     -0.660341     -0.202999 -0.228131 -0.186896 -0.212555   -0.166845   \n",
       "18140      0.431675     -0.243004 -0.227424 -0.241888 -0.212555   -0.240722   \n",
       "\n",
       "       Small Bags  Large Bags  XLarge Bags      type      year     month  \n",
       "0       -0.240417   -0.222395    -0.175769  1.000717  0.907954 -0.050220  \n",
       "1       -0.218582    0.321932    -0.164285 -0.999284  0.907954  1.365310  \n",
       "2        0.292953    0.685784    -0.175769  1.000717  0.907954 -0.616431  \n",
       "3       -0.240867   -0.222422    -0.175769  1.000717 -0.156489  0.799098  \n",
       "4       -0.237336   -0.147564    -0.175769  1.000717 -0.156489  1.082204  \n",
       "...           ...         ...          ...       ...       ...       ...  \n",
       "18136   -0.231089   -0.209424    -0.175769 -0.999284  0.907954  1.365310  \n",
       "18137   -0.234827   -0.217732    -0.175769  1.000717 -0.156489 -1.182643  \n",
       "18138   -0.222985   -0.170373    -0.175769  1.000717  0.907954 -1.465749  \n",
       "18139   -0.217281    0.002541    -0.175769  1.000717  0.907954 -1.182643  \n",
       "18140   -0.242380   -0.219116    -0.175769  1.000717 -1.220933 -0.050220  \n",
       "\n",
       "[18141 rows x 12 columns]"
      ]
     },
     "execution_count": 68,
     "metadata": {},
     "output_type": "execute_result"
    }
   ],
   "source": [
    "from sklearn.preprocessing import StandardScaler\n",
    "scaler = StandardScaler()\n",
    "xc_scaled = pd.DataFrame(scaler.fit_transform(xc_new),columns=xc_new.columns)\n",
    "xc_scaled"
   ]
  },
  {
   "cell_type": "code",
   "execution_count": 69,
   "id": "0a8ccee8",
   "metadata": {},
   "outputs": [],
   "source": [
    "XC=xc_scaled\n",
    "yc=yc_new"
   ]
  },
  {
   "cell_type": "markdown",
   "id": "1127adba",
   "metadata": {},
   "source": [
    "# Classification Model Development"
   ]
  },
  {
   "cell_type": "code",
   "execution_count": 70,
   "id": "a4a23e1d",
   "metadata": {},
   "outputs": [],
   "source": [
    "#import the necessary model algos.\n",
    "\n",
    "#classifiaction\n",
    "from sklearn.linear_model import LogisticRegression\n",
    "from sklearn.tree import DecisionTreeClassifier\n",
    "from sklearn.neighbors import KNeighborsClassifier\n",
    "from sklearn.ensemble import RandomForestClassifier\n",
    "from sklearn.svm import SVC\n",
    "from sklearn.ensemble import GradientBoostingClassifier,AdaBoostClassifier\n",
    "from sklearn.naive_bayes import GaussianNB\n",
    "\n",
    "#model selection\n",
    "from sklearn.model_selection import train_test_split,cross_validate\n",
    "from sklearn.model_selection import KFold\n",
    "from sklearn.model_selection import GridSearchCV\n",
    "\n",
    "#evaluation metrics\n",
    "from sklearn.metrics import accuracy_score, classification_report, confusion_matrix\n",
    "from sklearn.metrics import roc_auc_score, roc_curve, plot_roc_curve"
   ]
  },
  {
   "cell_type": "code",
   "execution_count": 71,
   "id": "a2c60379",
   "metadata": {},
   "outputs": [],
   "source": [
    "LR = LogisticRegression()\n",
    "DT = DecisionTreeClassifier()\n",
    "KNN= KNeighborsClassifier()\n",
    "RF = RandomForestClassifier()\n",
    "SV = SVC()\n",
    "GRA= GradientBoostingClassifier()\n",
    "ADA= AdaBoostClassifier()\n",
    "GNB= GaussianNB()"
   ]
  },
  {
   "cell_type": "code",
   "execution_count": 72,
   "id": "193905cf",
   "metadata": {},
   "outputs": [
    {
     "data": {
      "text/html": [
       "<div>\n",
       "<style scoped>\n",
       "    .dataframe tbody tr th:only-of-type {\n",
       "        vertical-align: middle;\n",
       "    }\n",
       "\n",
       "    .dataframe tbody tr th {\n",
       "        vertical-align: top;\n",
       "    }\n",
       "\n",
       "    .dataframe thead th {\n",
       "        text-align: right;\n",
       "    }\n",
       "</style>\n",
       "<table border=\"1\" class=\"dataframe\">\n",
       "  <thead>\n",
       "    <tr style=\"text-align: right;\">\n",
       "      <th></th>\n",
       "      <th>Model Name</th>\n",
       "      <th>Accuracy Score (without tuning)</th>\n",
       "    </tr>\n",
       "  </thead>\n",
       "  <tbody>\n",
       "    <tr>\n",
       "      <th>0</th>\n",
       "      <td>LR=LogisticRegression</td>\n",
       "      <td>34.47</td>\n",
       "    </tr>\n",
       "    <tr>\n",
       "      <th>1</th>\n",
       "      <td>DT=DecisionTreeClassifier</td>\n",
       "      <td>80.57</td>\n",
       "    </tr>\n",
       "    <tr>\n",
       "      <th>2</th>\n",
       "      <td>KNN=KNeighborsClassifier</td>\n",
       "      <td>33.70</td>\n",
       "    </tr>\n",
       "    <tr>\n",
       "      <th>3</th>\n",
       "      <td>RF=RandomForestClassifier</td>\n",
       "      <td>92.04</td>\n",
       "    </tr>\n",
       "    <tr>\n",
       "      <th>4</th>\n",
       "      <td>SV=SVC()</td>\n",
       "      <td>25.27</td>\n",
       "    </tr>\n",
       "    <tr>\n",
       "      <th>5</th>\n",
       "      <td>GRA=GradientBoostingClassifier</td>\n",
       "      <td>84.13</td>\n",
       "    </tr>\n",
       "    <tr>\n",
       "      <th>6</th>\n",
       "      <td>ADA=AdaBoostClassifier</td>\n",
       "      <td>7.16</td>\n",
       "    </tr>\n",
       "    <tr>\n",
       "      <th>7</th>\n",
       "      <td>GNB=GaussianNB</td>\n",
       "      <td>31.66</td>\n",
       "    </tr>\n",
       "  </tbody>\n",
       "</table>\n",
       "</div>"
      ],
      "text/plain": [
       "                       Model Name  Accuracy Score (without tuning)\n",
       "0           LR=LogisticRegression                            34.47\n",
       "1       DT=DecisionTreeClassifier                            80.57\n",
       "2        KNN=KNeighborsClassifier                            33.70\n",
       "3       RF=RandomForestClassifier                            92.04\n",
       "4                        SV=SVC()                            25.27\n",
       "5  GRA=GradientBoostingClassifier                            84.13\n",
       "6          ADA=AdaBoostClassifier                             7.16\n",
       "7                  GNB=GaussianNB                            31.66"
      ]
     },
     "execution_count": 72,
     "metadata": {},
     "output_type": "execute_result"
    }
   ],
   "source": [
    "model=[LogisticRegression(),DecisionTreeClassifier(),KNeighborsClassifier(),RandomForestClassifier(), SVC(),\n",
    "       GradientBoostingClassifier(),AdaBoostClassifier(),GaussianNB()]\n",
    "\n",
    "models=['LR=LogisticRegression','DT=DecisionTreeClassifier','KNN=KNeighborsClassifier','RF=RandomForestClassifier',\n",
    "        'SV=SVC()','GRA=GradientBoostingClassifier','ADA=AdaBoostClassifier','GNB=GaussianNB']\n",
    "\n",
    "acc_result=[]\n",
    "\n",
    "x_train,x_test,y_train,y_test=train_test_split(XC,yc,test_size=0.20,random_state=5)\n",
    "\n",
    "for i in range(len(model)):\n",
    "    clf=model[i]\n",
    "    clf.fit(x_train,y_train)\n",
    "    y_pred=clf.predict(x_test)\n",
    "    acc_result.append(round (accuracy_score(y_pred,y_test)*100,2))\n",
    "\n",
    "Result_df=pd.DataFrame({'Model Name':models, 'Accuracy Score (without tuning)':acc_result})\n",
    "Result_df"
   ]
  },
  {
   "cell_type": "markdown",
   "id": "374b91b9",
   "metadata": {},
   "source": [
    "# 1.1 Logistic Regression:"
   ]
  },
  {
   "cell_type": "code",
   "execution_count": 73,
   "id": "c8633486",
   "metadata": {},
   "outputs": [
    {
     "name": "stdout",
     "output_type": "stream",
     "text": [
      "Index of max vaule of train's accuracy_score at random_state: 8\n",
      "Index of max vaule of test's accuracy_score at random_state: 5\n"
     ]
    }
   ],
   "source": [
    "acc_train=[]\n",
    "acc_test=[]\n",
    "\n",
    "for i in range (0,10):\n",
    "    x_train, x_test, y_train, y_test = train_test_split(XC, yc, test_size=0.20, random_state=i)\n",
    "    \n",
    "    lr = LogisticRegression()\n",
    "    lr.fit(x_train,y_train)\n",
    "    \n",
    "    x_lr_predict=lr.predict(x_train)\n",
    "    y_lr_predict=lr.predict(x_test)\n",
    "    \n",
    "    acc_train.append(accuracy_score(y_train,x_lr_predict))\n",
    "    acc_test.append(accuracy_score(y_test,y_lr_predict))\n",
    "    \n",
    "\n",
    "acc_train_index= acc_train.index(max(acc_train))    \n",
    "print(\"Index of max vaule of train's accuracy_score at random_state:\",acc_train_index)\n",
    "\n",
    "acc_test_index= acc_test.index(max(acc_test))\n",
    "print(\"Index of max vaule of test's accuracy_score at random_state:\",acc_test_index)"
   ]
  },
  {
   "cell_type": "code",
   "execution_count": 74,
   "id": "4849a1a4",
   "metadata": {},
   "outputs": [
    {
     "name": "stdout",
     "output_type": "stream",
     "text": [
      "The training accurancy @ 5 random_state is: 0.3474366041896362\n",
      "The testing accurancy @ 5 ranom_state is: 0.34472306420501514\n"
     ]
    }
   ],
   "source": [
    "x_train, x_test, y_train, y_test = train_test_split(XC, yc, test_size=0.20, random_state=5)\n",
    "    \n",
    "lr.fit(x_train,y_train)\n",
    "x_lr_predict=lr.predict(x_train)\n",
    "y_lr_predict=lr.predict(x_test)\n",
    "    \n",
    "print (\"The training accurancy @ 5 random_state is:\",accuracy_score(y_train,x_lr_predict))\n",
    "print (\"The testing accurancy @ 5 ranom_state is:\",accuracy_score(y_test,y_lr_predict))"
   ]
  },
  {
   "cell_type": "markdown",
   "id": "73b2086a",
   "metadata": {},
   "source": [
    "# 2.2 Decision Tree:"
   ]
  },
  {
   "cell_type": "code",
   "execution_count": 75,
   "id": "5427b398",
   "metadata": {},
   "outputs": [
    {
     "data": {
      "text/plain": [
       "GridSearchCV(cv=10, estimator=DecisionTreeClassifier(), n_jobs=-1,\n",
       "             param_grid={'criterion': ['gini', 'entropy'],\n",
       "                         'max_depth': range(10, 12),\n",
       "                         'max_leaf_nodes': range(5, 7),\n",
       "                         'min_samples_leaf': range(2, 4),\n",
       "                         'min_samples_split': range(3, 5)})"
      ]
     },
     "execution_count": 75,
     "metadata": {},
     "output_type": "execute_result"
    }
   ],
   "source": [
    "grid_param = {\n",
    "            'criterion':['gini','entropy'],\n",
    "            'max_depth': range(10,12), # the max depth of the tree.\n",
    "            'min_samples_leaf': range (2,4), # the max no of samples required to be at a leaf node.\n",
    "            'min_samples_split': range (3,5), # the max no of samples required to split on interval node.\n",
    "            'max_leaf_nodes': range (5,7) # Best nodes are defined as a realtive in impurity. If none then nunlimited no of leaf nodes.\n",
    "}\n",
    "grid_search = GridSearchCV (DT, param_grid = grid_param, cv=10, n_jobs = -1)\n",
    "# n_jobs : Use all the cores in your system. For performance improvement.\n",
    "grid_search.fit(x_train,y_train)"
   ]
  },
  {
   "cell_type": "code",
   "execution_count": 76,
   "id": "df799166",
   "metadata": {},
   "outputs": [
    {
     "name": "stdout",
     "output_type": "stream",
     "text": [
      "The training accurancy is: 0.06422271223814774\n",
      "The testing accurancy is: 0.05786718104160926\n"
     ]
    }
   ],
   "source": [
    "#Initiate DecisitionTreeClassifier with new parametes and train\n",
    "dt=grid_search.best_estimator_\n",
    "\n",
    "# Train the model\n",
    "dt.fit(x_train,y_train)\n",
    "\n",
    "x_dt_predict=dt.predict(x_train)\n",
    "y_dt_predict=dt.predict(x_test)\n",
    "\n",
    "print (\"The training accurancy is:\",accuracy_score(y_train,x_dt_predict))\n",
    "print (\"The testing accurancy is:\",accuracy_score(y_test,y_dt_predict))"
   ]
  },
  {
   "cell_type": "markdown",
   "id": "ca5511c2",
   "metadata": {},
   "source": [
    "# 2.3 K-Nearest Neighbour:"
   ]
  },
  {
   "cell_type": "code",
   "execution_count": 77,
   "id": "b784de1b",
   "metadata": {},
   "outputs": [
    {
     "data": {
      "text/plain": [
       "GridSearchCV(estimator=KNeighborsClassifier(),\n",
       "             param_grid={'algorithm': ['kd_tree', 'brute'],\n",
       "                         'leaf_size': [3, 5, 6, 7, 8],\n",
       "                         'n_neighbors': [1, 2, 3, 4, 5, 6, 7, 8, 9]})"
      ]
     },
     "execution_count": 77,
     "metadata": {},
     "output_type": "execute_result"
    }
   ],
   "source": [
    "neighbors = [i for i in range(1,10)]\n",
    "parameter_grid = { 'algorithm' : ['kd_tree', 'brute'],\n",
    "                   'leaf_size' : [3,5,6,7,8],\n",
    "                   'n_neighbors': neighbors}\n",
    "gridsearch = GridSearchCV(KNN, param_grid=parameter_grid)\n",
    "gridsearch.fit(x_train, y_train)"
   ]
  },
  {
   "cell_type": "code",
   "execution_count": 78,
   "id": "73990521",
   "metadata": {},
   "outputs": [
    {
     "name": "stdout",
     "output_type": "stream",
     "text": [
      "The training accurancy is: 1.0\n",
      "The testing accurancy is: 0.4552218241939928\n",
      "\n",
      "  \n",
      " Test Classification Report \n",
      "               precision    recall  f1-score   support\n",
      "\n",
      "         0.0       0.21      0.29      0.24        51\n",
      "         1.0       0.46      0.37      0.41        73\n",
      "         2.0       0.54      0.42      0.47        66\n",
      "         3.0       0.39      0.45      0.42        71\n",
      "         4.0       0.59      0.48      0.53        84\n",
      "         5.0       0.35      0.38      0.36        65\n",
      "         6.0       0.87      0.71      0.78        65\n",
      "         7.0       0.42      0.37      0.39        67\n",
      "         8.0       0.66      0.70      0.68        57\n",
      "         9.0       0.42      0.39      0.40        62\n",
      "        10.0       0.15      0.23      0.18        61\n",
      "        11.0       0.58      0.51      0.54        87\n",
      "        12.0       0.76      0.58      0.66        76\n",
      "        13.0       0.53      0.41      0.46        73\n",
      "        14.0       0.30      0.32      0.31        68\n",
      "        15.0       0.83      0.70      0.76        56\n",
      "        16.0       0.42      0.35      0.38        78\n",
      "        17.0       0.45      0.57      0.50        61\n",
      "        18.0       0.52      0.55      0.54        62\n",
      "        19.0       0.18      0.25      0.21        59\n",
      "        20.0       0.24      0.21      0.22        78\n",
      "        21.0       0.31      0.30      0.30        80\n",
      "        22.0       0.73      0.70      0.72        63\n",
      "        23.0       0.25      0.18      0.21        72\n",
      "        24.0       0.43      0.38      0.41        73\n",
      "        25.0       0.73      0.70      0.71        57\n",
      "        26.0       0.29      0.37      0.32        60\n",
      "        27.0       0.33      0.43      0.37        54\n",
      "        28.0       0.66      0.69      0.68        65\n",
      "        29.0       0.95      0.78      0.86        69\n",
      "        30.0       0.36      0.36      0.36        55\n",
      "        31.0       0.22      0.32      0.26        62\n",
      "        32.0       0.41      0.52      0.45        62\n",
      "        33.0       0.43      0.48      0.46        60\n",
      "        34.0       0.30      0.42      0.35        50\n",
      "        35.0       0.71      0.66      0.68        67\n",
      "        36.0       0.52      0.57      0.54        70\n",
      "        37.0       0.37      0.46      0.41        56\n",
      "        38.0       0.33      0.32      0.33        72\n",
      "        39.0       0.24      0.27      0.25        71\n",
      "        40.0       0.36      0.36      0.36        58\n",
      "        41.0       0.43      0.24      0.31        82\n",
      "        42.0       0.61      0.62      0.62        72\n",
      "        43.0       0.44      0.32      0.37        76\n",
      "        44.0       0.42      0.39      0.40        69\n",
      "        45.0       0.92      0.81      0.86        70\n",
      "        46.0       0.67      0.67      0.67        66\n",
      "        47.0       0.22      0.21      0.21        72\n",
      "        48.0       0.24      0.21      0.22        71\n",
      "        49.0       0.28      0.32      0.30        75\n",
      "        50.0       0.14      0.17      0.15        63\n",
      "        51.0       1.00      1.00      1.00        76\n",
      "        52.0       0.97      0.81      0.88        69\n",
      "        53.0       0.39      0.39      0.39        72\n",
      "\n",
      "    accuracy                           0.46      3629\n",
      "   macro avg       0.47      0.46      0.46      3629\n",
      "weighted avg       0.48      0.46      0.46      3629\n",
      "\n",
      "\n",
      " Conconfusion_matrix:\n",
      " [[15  0  0 ...  0  0  0]\n",
      " [ 0 27  0 ...  0  0  2]\n",
      " [ 1  1 28 ...  0  0  0]\n",
      " ...\n",
      " [ 0  0  0 ... 76  0  0]\n",
      " [ 0  0  0 ...  0 56  0]\n",
      " [ 0  0  1 ...  0  0 28]]\n"
     ]
    }
   ],
   "source": [
    "#Initiate KNN with new parametes and train\n",
    "knn=gridsearch.best_estimator_\n",
    "\n",
    "# Train the model\n",
    "knn.fit(x_train,y_train)\n",
    "\n",
    "x_knn_predict=knn.predict(x_train)\n",
    "y_knn_predict=knn.predict(x_test)\n",
    "\n",
    "print (\"The training accurancy is:\",accuracy_score(y_train,x_knn_predict))\n",
    "print (\"The testing accurancy is:\",accuracy_score(y_test,y_knn_predict))\n",
    "print ('\\n  \\n Test Classification Report \\n', classification_report(y_test,y_knn_predict,digits=2))\n",
    "print (\"\\n Conconfusion_matrix:\\n\",confusion_matrix(y_test,y_knn_predict))"
   ]
  },
  {
   "cell_type": "markdown",
   "id": "19aa180e",
   "metadata": {},
   "source": [
    "# 2.4 Random forest:"
   ]
  },
  {
   "cell_type": "code",
   "execution_count": 82,
   "id": "463802a3",
   "metadata": {},
   "outputs": [
    {
     "data": {
      "text/plain": [
       "GridSearchCV(cv=10, estimator=RandomForestClassifier(), n_jobs=-1,\n",
       "             param_grid={'criterion': ['gini', 'entropy'],\n",
       "                         'max_depth': [10, 15, 40], 'min_samples_leaf': [5, 6],\n",
       "                         'min_samples_split': [10, 11],\n",
       "                         'n_estimators': [10, 15, 35]})"
      ]
     },
     "execution_count": 82,
     "metadata": {},
     "output_type": "execute_result"
    }
   ],
   "source": [
    "params = {  'n_estimators' : [10,15,35],\n",
    "            'criterion':['gini','entropy'],\n",
    "            'max_depth': [10,15,40], # the max depth of the tree.\n",
    "            'min_samples_leaf': [5,6], # the max no of samples required to be at a leaf node.\n",
    "            'min_samples_split': [10,11] # the max no of samples required to split on interval node.\n",
    "            #'max_leaf_nodes': range (5,10) # Best nodes are defined as a realtive in impurity. If none then nunlimited no of leaf nodes.\n",
    "}\n",
    "\n",
    "gridsearch_rf = GridSearchCV(RF, param_grid=params,cv=10, n_jobs = -1)\n",
    "gridsearch_rf.fit(x_train,y_train)"
   ]
  },
  {
   "cell_type": "code",
   "execution_count": 83,
   "id": "8952c327",
   "metadata": {},
   "outputs": [
    {
     "name": "stdout",
     "output_type": "stream",
     "text": [
      "The training accurancy is: 0.9666482910694597\n",
      "The testing accurancy is: 0.8922568200606228\n"
     ]
    }
   ],
   "source": [
    "#Initiate RandomForestClassifier with new parametes and train\n",
    "rf=gridsearch_rf.best_estimator_\n",
    "\n",
    "# Train the model\n",
    "rf.fit(x_train,y_train)\n",
    "\n",
    "x_rf_predict=rf.predict(x_train)\n",
    "y_rf_predict=rf.predict(x_test)\n",
    "\n",
    "print (\"The training accurancy is:\",accuracy_score(y_train,x_rf_predict))\n",
    "print (\"The testing accurancy is:\",accuracy_score(y_test,y_rf_predict))"
   ]
  },
  {
   "cell_type": "markdown",
   "id": "7d69328d",
   "metadata": {},
   "source": [
    "# 2.5 SVC"
   ]
  },
  {
   "cell_type": "code",
   "execution_count": 84,
   "id": "aea653c2",
   "metadata": {},
   "outputs": [
    {
     "name": "stdout",
     "output_type": "stream",
     "text": [
      "The training accurancy is: 0.269845644983462\n",
      "The testing accurancy is: 0.2513089005235602\n"
     ]
    }
   ],
   "source": [
    "#Initiate RandomForestClassifier with new parametes and train\n",
    "sv=SVC(gamma='auto')\n",
    "\n",
    "# Train the model\n",
    "sv.fit(x_train,y_train)\n",
    "\n",
    "x_sv_predict=sv.predict(x_train)\n",
    "y_sv_predict=sv.predict(x_test)\n",
    "\n",
    "print (\"The training accurancy is:\",accuracy_score(y_train,x_sv_predict))\n",
    "print (\"The testing accurancy is:\",accuracy_score(y_test,y_sv_predict))"
   ]
  },
  {
   "cell_type": "code",
   "execution_count": 85,
   "id": "872df242",
   "metadata": {},
   "outputs": [
    {
     "data": {
      "text/html": [
       "<div>\n",
       "<style scoped>\n",
       "    .dataframe tbody tr th:only-of-type {\n",
       "        vertical-align: middle;\n",
       "    }\n",
       "\n",
       "    .dataframe tbody tr th {\n",
       "        vertical-align: top;\n",
       "    }\n",
       "\n",
       "    .dataframe thead th {\n",
       "        text-align: right;\n",
       "    }\n",
       "</style>\n",
       "<table border=\"1\" class=\"dataframe\">\n",
       "  <thead>\n",
       "    <tr style=\"text-align: right;\">\n",
       "      <th></th>\n",
       "      <th>Classifier</th>\n",
       "      <th>Accuracy Score (with tuning)</th>\n",
       "    </tr>\n",
       "  </thead>\n",
       "  <tbody>\n",
       "    <tr>\n",
       "      <th>0</th>\n",
       "      <td>lr = LogisticRegression()</td>\n",
       "      <td>34.47</td>\n",
       "    </tr>\n",
       "    <tr>\n",
       "      <th>1</th>\n",
       "      <td>dt = DecisionTreeClassifier()</td>\n",
       "      <td>5.79</td>\n",
       "    </tr>\n",
       "    <tr>\n",
       "      <th>2</th>\n",
       "      <td>knn = KNeighborsClassifier()</td>\n",
       "      <td>45.52</td>\n",
       "    </tr>\n",
       "    <tr>\n",
       "      <th>3</th>\n",
       "      <td>rf = RandomForestClassifier()</td>\n",
       "      <td>89.23</td>\n",
       "    </tr>\n",
       "    <tr>\n",
       "      <th>4</th>\n",
       "      <td>sv=SVC()</td>\n",
       "      <td>25.13</td>\n",
       "    </tr>\n",
       "  </tbody>\n",
       "</table>\n",
       "</div>"
      ],
      "text/plain": [
       "                      Classifier  Accuracy Score (with tuning)\n",
       "0      lr = LogisticRegression()                         34.47\n",
       "1  dt = DecisionTreeClassifier()                          5.79\n",
       "2   knn = KNeighborsClassifier()                         45.52\n",
       "3  rf = RandomForestClassifier()                         89.23\n",
       "4                       sv=SVC()                         25.13"
      ]
     },
     "execution_count": 85,
     "metadata": {},
     "output_type": "execute_result"
    }
   ],
   "source": [
    "Acc_Score_tun =[round (accuracy_score(y_test,y_lr_predict)*100,2),\n",
    "                round (accuracy_score(y_test,y_dt_predict)*100,2),\n",
    "                round (accuracy_score(y_test,y_knn_predict)*100,2),\n",
    "                round (accuracy_score(y_test,y_rf_predict)*100,2),\n",
    "                round (accuracy_score(y_test,y_sv_predict)*100,2)]\n",
    "Avocado_region = pd.DataFrame({'Classifier':['lr = LogisticRegression()', 'dt = DecisionTreeClassifier()',\n",
    "                                               'knn = KNeighborsClassifier()','rf = RandomForestClassifier()','sv=SVC()'], \n",
    "                                 \n",
    "                                'Accuracy Score (with tuning)':Acc_Score_tun})\n",
    "Avocado_region"
   ]
  },
  {
   "cell_type": "code",
   "execution_count": 86,
   "id": "2e876dd9",
   "metadata": {},
   "outputs": [
    {
     "data": {
      "text/html": [
       "<div>\n",
       "<style scoped>\n",
       "    .dataframe tbody tr th:only-of-type {\n",
       "        vertical-align: middle;\n",
       "    }\n",
       "\n",
       "    .dataframe tbody tr th {\n",
       "        vertical-align: top;\n",
       "    }\n",
       "\n",
       "    .dataframe thead th {\n",
       "        text-align: right;\n",
       "    }\n",
       "</style>\n",
       "<table border=\"1\" class=\"dataframe\">\n",
       "  <thead>\n",
       "    <tr style=\"text-align: right;\">\n",
       "      <th></th>\n",
       "      <th>Model Name</th>\n",
       "      <th>Accuracy Score (without tuning)</th>\n",
       "      <th>Classifier</th>\n",
       "      <th>Accuracy Score (with tuning)</th>\n",
       "    </tr>\n",
       "  </thead>\n",
       "  <tbody>\n",
       "    <tr>\n",
       "      <th>0</th>\n",
       "      <td>LR=LogisticRegression</td>\n",
       "      <td>34.47</td>\n",
       "      <td>lr = LogisticRegression()</td>\n",
       "      <td>34.47</td>\n",
       "    </tr>\n",
       "    <tr>\n",
       "      <th>1</th>\n",
       "      <td>DT=DecisionTreeClassifier</td>\n",
       "      <td>80.57</td>\n",
       "      <td>dt = DecisionTreeClassifier()</td>\n",
       "      <td>5.79</td>\n",
       "    </tr>\n",
       "    <tr>\n",
       "      <th>2</th>\n",
       "      <td>KNN=KNeighborsClassifier</td>\n",
       "      <td>33.70</td>\n",
       "      <td>knn = KNeighborsClassifier()</td>\n",
       "      <td>45.52</td>\n",
       "    </tr>\n",
       "    <tr>\n",
       "      <th>3</th>\n",
       "      <td>RF=RandomForestClassifier</td>\n",
       "      <td>92.04</td>\n",
       "      <td>rf = RandomForestClassifier()</td>\n",
       "      <td>89.23</td>\n",
       "    </tr>\n",
       "    <tr>\n",
       "      <th>4</th>\n",
       "      <td>SV=SVC()</td>\n",
       "      <td>25.27</td>\n",
       "      <td>sv=SVC()</td>\n",
       "      <td>25.13</td>\n",
       "    </tr>\n",
       "  </tbody>\n",
       "</table>\n",
       "</div>"
      ],
      "text/plain": [
       "                  Model Name  Accuracy Score (without tuning)  \\\n",
       "0      LR=LogisticRegression                            34.47   \n",
       "1  DT=DecisionTreeClassifier                            80.57   \n",
       "2   KNN=KNeighborsClassifier                            33.70   \n",
       "3  RF=RandomForestClassifier                            92.04   \n",
       "4                   SV=SVC()                            25.27   \n",
       "\n",
       "                      Classifier  Accuracy Score (with tuning)  \n",
       "0      lr = LogisticRegression()                         34.47  \n",
       "1  dt = DecisionTreeClassifier()                          5.79  \n",
       "2   knn = KNeighborsClassifier()                         45.52  \n",
       "3  rf = RandomForestClassifier()                         89.23  \n",
       "4                       sv=SVC()                         25.13  "
      ]
     },
     "execution_count": 86,
     "metadata": {},
     "output_type": "execute_result"
    }
   ],
   "source": [
    "AVOCADO_REGION= pd.concat([Result_df[0:5],Avocado_region],axis=1)\n",
    "AVOCADO_REGION"
   ]
  },
  {
   "cell_type": "markdown",
   "id": "05a56d10",
   "metadata": {},
   "source": [
    "# We are gettig high model accuracy: 92.04 with RandomForestClassifier model, but without tuning method, which shows model is performing exremely well, so we can save this model.\n",
    "# Save the model using pickle"
   ]
  },
  {
   "cell_type": "code",
   "execution_count": 87,
   "id": "9486affb",
   "metadata": {},
   "outputs": [],
   "source": [
    "import pickle\n",
    "pickle.dump(RF,open('Avocado-ClassificationModel_Region','wb'))"
   ]
  },
  {
   "cell_type": "code",
   "execution_count": null,
   "id": "5f1d3f9b",
   "metadata": {},
   "outputs": [],
   "source": []
  },
  {
   "cell_type": "markdown",
   "id": "bcf14d18",
   "metadata": {},
   "source": [
    "# From this project we have develop two models.\n",
    "# 1. RandomForestRegressor Model with accuracy 90.06% with tuning to predict Average Price.\n",
    "# 2. RandomForestClassifier Model with accuracy 92.04% without tunning to predict region."
   ]
  },
  {
   "cell_type": "code",
   "execution_count": null,
   "id": "b5473991",
   "metadata": {},
   "outputs": [],
   "source": []
  }
 ],
 "metadata": {
  "kernelspec": {
   "display_name": "Python 3 (ipykernel)",
   "language": "python",
   "name": "python3"
  },
  "language_info": {
   "codemirror_mode": {
    "name": "ipython",
    "version": 3
   },
   "file_extension": ".py",
   "mimetype": "text/x-python",
   "name": "python",
   "nbconvert_exporter": "python",
   "pygments_lexer": "ipython3",
   "version": "3.9.12"
  }
 },
 "nbformat": 4,
 "nbformat_minor": 5
}
